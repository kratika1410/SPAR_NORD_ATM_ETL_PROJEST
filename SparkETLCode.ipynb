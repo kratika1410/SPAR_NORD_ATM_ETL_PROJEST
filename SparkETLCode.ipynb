{
  "cells": [
    {
      "cell_type": "code",
      "execution_count": null,
      "id": "56c982fd-9649-4a63-a5ac-d3d45e88ff7a",
      "metadata": {
        "execution": {
          "iopub.execute_input": "2022-12-19T10:43:17.210039Z",
          "iopub.status.busy": "2022-12-19T10:43:17.209626Z",
          "iopub.status.idle": "2022-12-19T10:44:02.627038Z",
          "shell.execute_reply": "2022-12-19T10:44:02.625904Z",
          "shell.execute_reply.started": "2022-12-19T10:43:17.209998Z"
        },
        "id": "56c982fd-9649-4a63-a5ac-d3d45e88ff7a",
        "outputId": "3749b21c-f15f-41be-fc19-8c643eb92dac",
        "colab": {
          "referenced_widgets": [
            "5d900ea6cb4e43ebae17dd6f63ad4894",
            ""
          ]
        }
      },
      "outputs": [
        {
          "data": {
            "application/vnd.jupyter.widget-view+json": {
              "model_id": "5d900ea6cb4e43ebae17dd6f63ad4894",
              "version_major": 2,
              "version_minor": 0
            },
            "text/plain": [
              "VBox()"
            ]
          },
          "metadata": {},
          "output_type": "display_data"
        },
        {
          "name": "stdout",
          "output_type": "stream",
          "text": [
            "Starting Spark application\n"
          ]
        },
        {
          "data": {
            "text/html": [
              "<table>\n",
              "<tr><th>ID</th><th>YARN Application ID</th><th>Kind</th><th>State</th><th>Spark UI</th><th>Driver log</th><th>Current session?</th></tr><tr><td>0</td><td>application_1671445871203_0002</td><td>pyspark</td><td>idle</td><td><a target=\"_blank\" href=\"http://ip-172-31-26-34.ec2.internal:20888/proxy/application_1671445871203_0002/\">Link</a></td><td><a target=\"_blank\" href=\"http://ip-172-31-26-34.ec2.internal:8042/node/containerlogs/container_1671445871203_0002_01_000001/livy\">Link</a></td><td>✔</td></tr></table>"
            ],
            "text/plain": [
              "<IPython.core.display.HTML object>"
            ]
          },
          "metadata": {},
          "output_type": "display_data"
        },
        {
          "data": {
            "application/vnd.jupyter.widget-view+json": {
              "model_id": "",
              "version_major": 2,
              "version_minor": 0
            },
            "text/plain": [
              "FloatProgress(value=0.0, bar_style='info', description='Progress:', layout=Layout(height='25px', width='50%'),…"
            ]
          },
          "metadata": {},
          "output_type": "display_data"
        },
        {
          "name": "stdout",
          "output_type": "stream",
          "text": [
            "SparkSession available as 'spark'.\n"
          ]
        },
        {
          "data": {
            "application/vnd.jupyter.widget-view+json": {
              "model_id": "",
              "version_major": 2,
              "version_minor": 0
            },
            "text/plain": [
              "FloatProgress(value=0.0, bar_style='info', description='Progress:', layout=Layout(height='25px', width='50%'),…"
            ]
          },
          "metadata": {},
          "output_type": "display_data"
        }
      ],
      "source": [
        "import os\n",
        "import sys\n",
        "os.environ[\"PYSPARK_PYTHON\"] = \"/opt/cloudera/parcels/Anaconda/bin/python\"\n",
        "os.environ[\"JAVA_HOME\"] = \"/usr/java/jdk1.8.0_232-cloudera/jre\"\n",
        "os.environ[\"SPARK_HOME\"]=\"/opt/cloudera/parcels/SPARK2-2.3.0.cloudera2-1.cdh5.13.3.p0.316101/lib/spark2/\"\n",
        "os.environ[\"PYLIB\"] = os.environ[\"SPARK_HOME\"] + \"/python/lib\"\n",
        "sys.path.insert(0, os.environ[\"PYLIB\"] +\"/py4j-0.10.6-src.zip\")\n",
        "sys.path.insert(0, os.environ[\"PYLIB\"] +\"/pyspark.zip\")"
      ]
    },
    {
      "cell_type": "code",
      "execution_count": null,
      "id": "5005ddc9-09c4-4f44-b962-4b7dd68b363a",
      "metadata": {
        "execution": {
          "iopub.execute_input": "2022-12-19T10:44:25.085057Z",
          "iopub.status.busy": "2022-12-19T10:44:25.084729Z",
          "iopub.status.idle": "2022-12-19T10:44:26.055838Z",
          "shell.execute_reply": "2022-12-19T10:44:26.054951Z",
          "shell.execute_reply.started": "2022-12-19T10:44:25.085025Z"
        },
        "id": "5005ddc9-09c4-4f44-b962-4b7dd68b363a",
        "outputId": "904b79c1-f79a-4f0d-b952-b5ffe56aafe9",
        "colab": {
          "referenced_widgets": [
            "5c3f54ab84414b50b7d85826a051fefb",
            ""
          ]
        }
      },
      "outputs": [
        {
          "data": {
            "application/vnd.jupyter.widget-view+json": {
              "model_id": "5c3f54ab84414b50b7d85826a051fefb",
              "version_major": 2,
              "version_minor": 0
            },
            "text/plain": [
              "VBox()"
            ]
          },
          "metadata": {},
          "output_type": "display_data"
        },
        {
          "data": {
            "application/vnd.jupyter.widget-view+json": {
              "model_id": "",
              "version_major": 2,
              "version_minor": 0
            },
            "text/plain": [
              "FloatProgress(value=0.0, bar_style='info', description='Progress:', layout=Layout(height='25px', width='50%'),…"
            ]
          },
          "metadata": {},
          "output_type": "display_data"
        },
        {
          "name": "stdout",
          "output_type": "stream",
          "text": [
            "<pyspark.sql.session.SparkSession object at 0x7ff3cfb13b50>"
          ]
        }
      ],
      "source": [
        "from pyspark.sql import SparkSession\n",
        "spark = SparkSession.builder.appName('jupyter_Spark').master(\"local\").getOrCreate()\n",
        "spark"
      ]
    },
    {
      "cell_type": "code",
      "execution_count": null,
      "id": "3ab56d2c-a012-4fdb-8fb9-924399060fc7",
      "metadata": {
        "execution": {
          "iopub.execute_input": "2022-12-19T10:45:47.002053Z",
          "iopub.status.busy": "2022-12-19T10:45:47.001485Z",
          "iopub.status.idle": "2022-12-19T10:46:13.174548Z",
          "shell.execute_reply": "2022-12-19T10:46:13.173574Z",
          "shell.execute_reply.started": "2022-12-19T10:45:47.001787Z"
        },
        "tags": [],
        "id": "3ab56d2c-a012-4fdb-8fb9-924399060fc7",
        "outputId": "a70e5922-7903-4ee7-dde8-068ed6e71922",
        "colab": {
          "referenced_widgets": [
            "fe3eb405b91f41e68716b3b847a9114b",
            ""
          ]
        }
      },
      "outputs": [
        {
          "data": {
            "application/vnd.jupyter.widget-view+json": {
              "model_id": "fe3eb405b91f41e68716b3b847a9114b",
              "version_major": 2,
              "version_minor": 0
            },
            "text/plain": [
              "VBox()"
            ]
          },
          "metadata": {},
          "output_type": "display_data"
        },
        {
          "data": {
            "application/vnd.jupyter.widget-view+json": {
              "model_id": "",
              "version_major": 2,
              "version_minor": 0
            },
            "text/plain": [
              "FloatProgress(value=0.0, bar_style='info', description='Progress:', layout=Layout(height='25px', width='50%'),…"
            ]
          },
          "metadata": {},
          "output_type": "display_data"
        }
      ],
      "source": [
        "df = spark.read.csv(\"/user/root/spar_nord_bank_atm/part-m-00000\", header = False, inferSchema = True)"
      ]
    },
    {
      "cell_type": "code",
      "execution_count": null,
      "id": "eb87d16e-7f02-453a-80c0-91fdc9a04dbb",
      "metadata": {
        "execution": {
          "iopub.execute_input": "2022-12-19T10:48:34.536053Z",
          "iopub.status.busy": "2022-12-19T10:48:34.535748Z",
          "iopub.status.idle": "2022-12-19T10:48:44.334377Z",
          "shell.execute_reply": "2022-12-19T10:48:44.333663Z",
          "shell.execute_reply.started": "2022-12-19T10:48:34.536027Z"
        },
        "id": "eb87d16e-7f02-453a-80c0-91fdc9a04dbb",
        "outputId": "3018bd00-b2f6-4cc5-8b77-131274d1f59f",
        "colab": {
          "referenced_widgets": [
            "597b155d7f8c447fbc037fc263361cee",
            ""
          ]
        }
      },
      "outputs": [
        {
          "data": {
            "application/vnd.jupyter.widget-view+json": {
              "model_id": "597b155d7f8c447fbc037fc263361cee",
              "version_major": 2,
              "version_minor": 0
            },
            "text/plain": [
              "VBox()"
            ]
          },
          "metadata": {},
          "output_type": "display_data"
        },
        {
          "data": {
            "application/vnd.jupyter.widget-view+json": {
              "model_id": "",
              "version_major": 2,
              "version_minor": 0
            },
            "text/plain": [
              "FloatProgress(value=0.0, bar_style='info', description='Progress:', layout=Layout(height='25px', width='50%'),…"
            ]
          },
          "metadata": {},
          "output_type": "display_data"
        },
        {
          "name": "stdout",
          "output_type": "stream",
          "text": [
            "+----+-------+---+------+---+------+---+---+----------+-----------+----+----+------+------+----+----------+----+----------+----+----+-----+------+-------+--------+------+----+----+----+----+-----+----+----+----+----------+\n",
            "| _c0|    _c1|_c2|   _c3|_c4|   _c5|_c6|_c7|       _c8|        _c9|_c10|_c11|  _c12|  _c13|_c14|      _c15|_c16|      _c17|_c18|_c19| _c20|  _c21|   _c22|    _c23|  _c24|_c25|_c26|_c27|_c28| _c29|_c30|_c31|_c32|      _c33|\n",
            "+----+-------+---+------+---+------+---+---+----------+-----------+----+----+------+------+----+----------+----+----------+----+----+-----+------+-------+--------+------+----+----+----+----+-----+----+----+----+----------+\n",
            "|2017|January|  1|Sunday|  0|Active|  1|NCR|NÃƒÂ¦stved|Farimagsvej|   8|4700|55.233|11.763| DKK|MasterCard|5643|Withdrawal|null|null|55.23|11.761|2616038|Naestved|281.15|1014|  87|   7| 260|0.215|  92| 500|Rain|light rain|\n",
            "+----+-------+---+------+---+------+---+---+----------+-----------+----+----+------+------+----+----------+----+----------+----+----+-----+------+-------+--------+------+----+----+----+----+-----+----+----+----+----------+\n",
            "only showing top 1 row"
          ]
        }
      ],
      "source": [
        "df.show(1)"
      ]
    },
    {
      "cell_type": "markdown",
      "id": "2a010071-f818-4766-add6-b70a83ea6003",
      "metadata": {
        "id": "2a010071-f818-4766-add6-b70a83ea6003"
      },
      "source": [
        "#### Create input schema using StructType and reading the data"
      ]
    },
    {
      "cell_type": "code",
      "execution_count": null,
      "id": "35eb9bcf-c499-44d6-9433-e1bde8b6f982",
      "metadata": {
        "execution": {
          "iopub.execute_input": "2022-12-19T10:49:53.829449Z",
          "iopub.status.busy": "2022-12-19T10:49:53.829056Z",
          "iopub.status.idle": "2022-12-19T10:49:54.006411Z",
          "shell.execute_reply": "2022-12-19T10:49:54.005501Z",
          "shell.execute_reply.started": "2022-12-19T10:49:53.829405Z"
        },
        "id": "35eb9bcf-c499-44d6-9433-e1bde8b6f982",
        "outputId": "c8b48434-618d-4ce6-98c6-3b46ba0afe0d",
        "colab": {
          "referenced_widgets": [
            "b4096eabc5e945858c1990d7248aefbb",
            ""
          ]
        }
      },
      "outputs": [
        {
          "data": {
            "application/vnd.jupyter.widget-view+json": {
              "model_id": "b4096eabc5e945858c1990d7248aefbb",
              "version_major": 2,
              "version_minor": 0
            },
            "text/plain": [
              "VBox()"
            ]
          },
          "metadata": {},
          "output_type": "display_data"
        },
        {
          "data": {
            "application/vnd.jupyter.widget-view+json": {
              "model_id": "",
              "version_major": 2,
              "version_minor": 0
            },
            "text/plain": [
              "FloatProgress(value=0.0, bar_style='info', description='Progress:', layout=Layout(height='25px', width='50%'),…"
            ]
          },
          "metadata": {},
          "output_type": "display_data"
        }
      ],
      "source": [
        "from pyspark.sql.types import StructType, StructField, IntegerType, StringType, BooleanType, DoubleType, LongType"
      ]
    },
    {
      "cell_type": "code",
      "execution_count": null,
      "id": "d8ba76d8-a437-4432-8afd-46b6ac2e9f0c",
      "metadata": {
        "execution": {
          "iopub.execute_input": "2022-12-19T10:50:38.955071Z",
          "iopub.status.busy": "2022-12-19T10:50:38.954752Z",
          "iopub.status.idle": "2022-12-19T10:50:39.151021Z",
          "shell.execute_reply": "2022-12-19T10:50:39.150131Z",
          "shell.execute_reply.started": "2022-12-19T10:50:38.955044Z"
        },
        "id": "d8ba76d8-a437-4432-8afd-46b6ac2e9f0c",
        "outputId": "b07b8f78-4f5d-40b3-fe1a-51f440f8f3af",
        "colab": {
          "referenced_widgets": [
            "c38d897076144c8ab35befe9097bdf37",
            ""
          ]
        }
      },
      "outputs": [
        {
          "data": {
            "application/vnd.jupyter.widget-view+json": {
              "model_id": "c38d897076144c8ab35befe9097bdf37",
              "version_major": 2,
              "version_minor": 0
            },
            "text/plain": [
              "VBox()"
            ]
          },
          "metadata": {},
          "output_type": "display_data"
        },
        {
          "data": {
            "application/vnd.jupyter.widget-view+json": {
              "model_id": "",
              "version_major": 2,
              "version_minor": 0
            },
            "text/plain": [
              "FloatProgress(value=0.0, bar_style='info', description='Progress:', layout=Layout(height='25px', width='50%'),…"
            ]
          },
          "metadata": {},
          "output_type": "display_data"
        }
      ],
      "source": [
        "Schema = StructType([StructField('year', IntegerType(), nullable = True),\n",
        "                        StructField('month', StringType(), True),\n",
        "                        StructField('day', IntegerType(), True),\n",
        "                        StructField('weekday', StringType(), True),\n",
        "                        StructField('hour', IntegerType(), True),\n",
        "                        StructField('atm_status', StringType(), True),\n",
        "                        StructField('atm_id', StringType(), True),\n",
        "                        StructField('atm_manufacturer', StringType(), True),\n",
        "                        StructField('atm_location', StringType(), True),\n",
        "                        StructField('atm_streetname', StringType(), True),\n",
        "                        StructField('atm_street_number', IntegerType(), True),\n",
        "                        StructField('atm_zipcode', IntegerType(), True),\n",
        "                        StructField('atm_lat', DoubleType(), True),\n",
        "                        StructField('atm_lon', DoubleType(), True),\n",
        "                        StructField('currency', StringType(), True),\n",
        "                        StructField('card_type', StringType(), True),\n",
        "                        StructField('transaction_amount', IntegerType(), True),\n",
        "                        StructField('service', StringType(), True),\n",
        "                        StructField('message_code', StringType(), True),\n",
        "                        StructField('message_text', StringType(), True),\n",
        "                        StructField('weather_lat', DoubleType(), True),\n",
        "                        StructField('weather_lon', DoubleType(), True),\n",
        "                        StructField('weather_city_id', IntegerType(), True),\n",
        "                        StructField('weather_city_name', StringType(), True),\n",
        "                        StructField('temp', DoubleType(), True),\n",
        "                        StructField('pressure', IntegerType(), True),\n",
        "                        StructField('humidity', IntegerType(), True),\n",
        "                        StructField('wind_speed', IntegerType(), True),\n",
        "                        StructField('wind_deg', IntegerType(), True),\n",
        "                        StructField('rain_3h', DoubleType(), True),\n",
        "                        StructField('clouds_all', IntegerType(), True),\n",
        "                        StructField('weather_id', IntegerType(), True),\n",
        "                        StructField('weather_main', StringType(), True),\n",
        "                        StructField('weather_description', StringType(), True)])"
      ]
    },
    {
      "cell_type": "code",
      "execution_count": null,
      "id": "b68b709a-cdd3-4486-b418-ac9dc34ed781",
      "metadata": {
        "execution": {
          "iopub.execute_input": "2022-12-19T10:50:50.739788Z",
          "iopub.status.busy": "2022-12-19T10:50:50.739477Z",
          "iopub.status.idle": "2022-12-19T10:50:51.029239Z",
          "shell.execute_reply": "2022-12-19T10:50:51.027972Z",
          "shell.execute_reply.started": "2022-12-19T10:50:50.739761Z"
        },
        "id": "b68b709a-cdd3-4486-b418-ac9dc34ed781",
        "outputId": "442a3771-4b6a-45af-cfb9-7411fcaf7d53",
        "colab": {
          "referenced_widgets": [
            "7a2dc7c013f440f18d80a132016d75f9",
            ""
          ]
        }
      },
      "outputs": [
        {
          "data": {
            "application/vnd.jupyter.widget-view+json": {
              "model_id": "7a2dc7c013f440f18d80a132016d75f9",
              "version_major": 2,
              "version_minor": 0
            },
            "text/plain": [
              "VBox()"
            ]
          },
          "metadata": {},
          "output_type": "display_data"
        },
        {
          "data": {
            "application/vnd.jupyter.widget-view+json": {
              "model_id": "",
              "version_major": 2,
              "version_minor": 0
            },
            "text/plain": [
              "FloatProgress(value=0.0, bar_style='info', description='Progress:', layout=Layout(height='25px', width='50%'),…"
            ]
          },
          "metadata": {},
          "output_type": "display_data"
        }
      ],
      "source": [
        "df = spark.read.csv(\"/user/root/spar_nord_bank_atm/part-m-00000\", header = False, schema = Schema)"
      ]
    },
    {
      "cell_type": "markdown",
      "id": "bacfc18e-1ade-438c-91eb-0b741d10a7d4",
      "metadata": {
        "id": "bacfc18e-1ade-438c-91eb-0b741d10a7d4"
      },
      "source": [
        "#### Verify the count of the records loaded into the Dataframe"
      ]
    },
    {
      "cell_type": "code",
      "execution_count": null,
      "id": "582c821a-316f-4189-a66d-d6ae68713774",
      "metadata": {
        "execution": {
          "iopub.execute_input": "2022-12-19T10:53:55.873507Z",
          "iopub.status.busy": "2022-12-19T10:53:55.873115Z",
          "iopub.status.idle": "2022-12-19T10:54:09.780146Z",
          "shell.execute_reply": "2022-12-19T10:54:09.779244Z",
          "shell.execute_reply.started": "2022-12-19T10:53:55.873473Z"
        },
        "id": "582c821a-316f-4189-a66d-d6ae68713774",
        "outputId": "f71e4bea-8cbc-4fd9-de13-cd56093f266c",
        "colab": {
          "referenced_widgets": [
            "016c5e2b9c8245489a435178582ca1d4",
            ""
          ]
        }
      },
      "outputs": [
        {
          "data": {
            "application/vnd.jupyter.widget-view+json": {
              "model_id": "016c5e2b9c8245489a435178582ca1d4",
              "version_major": 2,
              "version_minor": 0
            },
            "text/plain": [
              "VBox()"
            ]
          },
          "metadata": {},
          "output_type": "display_data"
        },
        {
          "data": {
            "application/vnd.jupyter.widget-view+json": {
              "model_id": "",
              "version_major": 2,
              "version_minor": 0
            },
            "text/plain": [
              "FloatProgress(value=0.0, bar_style='info', description='Progress:', layout=Layout(height='25px', width='50%'),…"
            ]
          },
          "metadata": {},
          "output_type": "display_data"
        },
        {
          "name": "stdout",
          "output_type": "stream",
          "text": [
            "2468572"
          ]
        }
      ],
      "source": [
        "df.select('*').count()"
      ]
    },
    {
      "cell_type": "markdown",
      "id": "63ee3350-0ff0-4ebf-acc4-89cdc9e7ab3a",
      "metadata": {
        "id": "63ee3350-0ff0-4ebf-acc4-89cdc9e7ab3a"
      },
      "source": [
        "#### verify the Schema, Dataframe and the Columns"
      ]
    },
    {
      "cell_type": "code",
      "execution_count": null,
      "id": "b872ef97-22ad-4d33-8f32-effb502b5479",
      "metadata": {
        "execution": {
          "iopub.execute_input": "2022-12-19T10:54:51.018234Z",
          "iopub.status.busy": "2022-12-19T10:54:51.017785Z",
          "iopub.status.idle": "2022-12-19T10:54:51.286010Z",
          "shell.execute_reply": "2022-12-19T10:54:51.285067Z",
          "shell.execute_reply.started": "2022-12-19T10:54:51.018199Z"
        },
        "id": "b872ef97-22ad-4d33-8f32-effb502b5479",
        "outputId": "13bdc888-9ede-4fd6-c045-a4ecfcb8da53",
        "colab": {
          "referenced_widgets": [
            "e061a7b7b11b4245a2b6a59c2b10b8ca",
            ""
          ]
        }
      },
      "outputs": [
        {
          "data": {
            "application/vnd.jupyter.widget-view+json": {
              "model_id": "e061a7b7b11b4245a2b6a59c2b10b8ca",
              "version_major": 2,
              "version_minor": 0
            },
            "text/plain": [
              "VBox()"
            ]
          },
          "metadata": {},
          "output_type": "display_data"
        },
        {
          "data": {
            "application/vnd.jupyter.widget-view+json": {
              "model_id": "",
              "version_major": 2,
              "version_minor": 0
            },
            "text/plain": [
              "FloatProgress(value=0.0, bar_style='info', description='Progress:', layout=Layout(height='25px', width='50%'),…"
            ]
          },
          "metadata": {},
          "output_type": "display_data"
        },
        {
          "name": "stdout",
          "output_type": "stream",
          "text": [
            "root\n",
            " |-- year: integer (nullable = true)\n",
            " |-- month: string (nullable = true)\n",
            " |-- day: integer (nullable = true)\n",
            " |-- weekday: string (nullable = true)\n",
            " |-- hour: integer (nullable = true)\n",
            " |-- atm_status: string (nullable = true)\n",
            " |-- atm_id: string (nullable = true)\n",
            " |-- atm_manufacturer: string (nullable = true)\n",
            " |-- atm_location: string (nullable = true)\n",
            " |-- atm_streetname: string (nullable = true)\n",
            " |-- atm_street_number: integer (nullable = true)\n",
            " |-- atm_zipcode: integer (nullable = true)\n",
            " |-- atm_lat: double (nullable = true)\n",
            " |-- atm_lon: double (nullable = true)\n",
            " |-- currency: string (nullable = true)\n",
            " |-- card_type: string (nullable = true)\n",
            " |-- transaction_amount: integer (nullable = true)\n",
            " |-- service: string (nullable = true)\n",
            " |-- message_code: string (nullable = true)\n",
            " |-- message_text: string (nullable = true)\n",
            " |-- weather_lat: double (nullable = true)\n",
            " |-- weather_lon: double (nullable = true)\n",
            " |-- weather_city_id: integer (nullable = true)\n",
            " |-- weather_city_name: string (nullable = true)\n",
            " |-- temp: double (nullable = true)\n",
            " |-- pressure: integer (nullable = true)\n",
            " |-- humidity: integer (nullable = true)\n",
            " |-- wind_speed: integer (nullable = true)\n",
            " |-- wind_deg: integer (nullable = true)\n",
            " |-- rain_3h: double (nullable = true)\n",
            " |-- clouds_all: integer (nullable = true)\n",
            " |-- weather_id: integer (nullable = true)\n",
            " |-- weather_main: string (nullable = true)\n",
            " |-- weather_description: string (nullable = true)"
          ]
        }
      ],
      "source": [
        "df.printSchema()"
      ]
    },
    {
      "cell_type": "code",
      "execution_count": null,
      "id": "77398c7a-bc3f-48fb-88e2-3334cf78dee5",
      "metadata": {
        "execution": {
          "iopub.execute_input": "2022-12-19T10:55:04.404800Z",
          "iopub.status.busy": "2022-12-19T10:55:04.404402Z",
          "iopub.status.idle": "2022-12-19T10:55:05.383274Z",
          "shell.execute_reply": "2022-12-19T10:55:05.382521Z",
          "shell.execute_reply.started": "2022-12-19T10:55:04.404765Z"
        },
        "id": "77398c7a-bc3f-48fb-88e2-3334cf78dee5",
        "outputId": "58a07245-1d2c-4c82-f309-0a4ffb3782ab",
        "colab": {
          "referenced_widgets": [
            "23ae70979f8a47aa8ffd2d7a7b8df26a",
            ""
          ]
        }
      },
      "outputs": [
        {
          "data": {
            "application/vnd.jupyter.widget-view+json": {
              "model_id": "23ae70979f8a47aa8ffd2d7a7b8df26a",
              "version_major": 2,
              "version_minor": 0
            },
            "text/plain": [
              "VBox()"
            ]
          },
          "metadata": {},
          "output_type": "display_data"
        },
        {
          "data": {
            "application/vnd.jupyter.widget-view+json": {
              "model_id": "",
              "version_major": 2,
              "version_minor": 0
            },
            "text/plain": [
              "FloatProgress(value=0.0, bar_style='info', description='Progress:', layout=Layout(height='25px', width='50%'),…"
            ]
          },
          "metadata": {},
          "output_type": "display_data"
        },
        {
          "name": "stdout",
          "output_type": "stream",
          "text": [
            "+----+-------+---+-------+----+----------+------+----------------+------------+--------------+-----------------+-----------+-------+-------+--------+----------+------------------+----------+------------+------------+-----------+-----------+---------------+-----------------+------+--------+--------+----------+--------+-------+----------+----------+------------+-------------------+\n",
            "|year|  month|day|weekday|hour|atm_status|atm_id|atm_manufacturer|atm_location|atm_streetname|atm_street_number|atm_zipcode|atm_lat|atm_lon|currency| card_type|transaction_amount|   service|message_code|message_text|weather_lat|weather_lon|weather_city_id|weather_city_name|  temp|pressure|humidity|wind_speed|wind_deg|rain_3h|clouds_all|weather_id|weather_main|weather_description|\n",
            "+----+-------+---+-------+----+----------+------+----------------+------------+--------------+-----------------+-----------+-------+-------+--------+----------+------------------+----------+------------+------------+-----------+-----------+---------------+-----------------+------+--------+--------+----------+--------+-------+----------+----------+------------+-------------------+\n",
            "|2017|January|  1| Sunday|   0|    Active|     1|             NCR|  NÃƒÂ¦stved|   Farimagsvej|                8|       4700| 55.233| 11.763|     DKK|MasterCard|              5643|Withdrawal|        null|        null|      55.23|     11.761|        2616038|         Naestved|281.15|    1014|      87|         7|     260|  0.215|        92|       500|        Rain|         light rain|\n",
            "+----+-------+---+-------+----+----------+------+----------------+------------+--------------+-----------------+-----------+-------+-------+--------+----------+------------------+----------+------------+------------+-----------+-----------+---------------+-----------------+------+--------+--------+----------+--------+-------+----------+----------+------------+-------------------+\n",
            "only showing top 1 row"
          ]
        }
      ],
      "source": [
        "df.show(1)"
      ]
    },
    {
      "cell_type": "code",
      "execution_count": null,
      "id": "c66c6b09-d27b-4f29-b607-eb0efb0ba3d7",
      "metadata": {
        "execution": {
          "iopub.execute_input": "2022-12-19T10:55:19.590649Z",
          "iopub.status.busy": "2022-12-19T10:55:19.590276Z",
          "iopub.status.idle": "2022-12-19T10:55:19.805518Z",
          "shell.execute_reply": "2022-12-19T10:55:19.804389Z",
          "shell.execute_reply.started": "2022-12-19T10:55:19.590616Z"
        },
        "id": "c66c6b09-d27b-4f29-b607-eb0efb0ba3d7",
        "outputId": "1aee19bd-2b78-4584-9313-b52db173da61",
        "colab": {
          "referenced_widgets": [
            "7a445d9d01af4aebaca9ee5ed1bbd456",
            ""
          ]
        }
      },
      "outputs": [
        {
          "data": {
            "application/vnd.jupyter.widget-view+json": {
              "model_id": "7a445d9d01af4aebaca9ee5ed1bbd456",
              "version_major": 2,
              "version_minor": 0
            },
            "text/plain": [
              "VBox()"
            ]
          },
          "metadata": {},
          "output_type": "display_data"
        },
        {
          "data": {
            "application/vnd.jupyter.widget-view+json": {
              "model_id": "",
              "version_major": 2,
              "version_minor": 0
            },
            "text/plain": [
              "FloatProgress(value=0.0, bar_style='info', description='Progress:', layout=Layout(height='25px', width='50%'),…"
            ]
          },
          "metadata": {},
          "output_type": "display_data"
        },
        {
          "name": "stdout",
          "output_type": "stream",
          "text": [
            "['year', 'month', 'day', 'weekday', 'hour', 'atm_status', 'atm_id', 'atm_manufacturer', 'atm_location', 'atm_streetname', 'atm_street_number', 'atm_zipcode', 'atm_lat', 'atm_lon', 'currency', 'card_type', 'transaction_amount', 'service', 'message_code', 'message_text', 'weather_lat', 'weather_lon', 'weather_city_id', 'weather_city_name', 'temp', 'pressure', 'humidity', 'wind_speed', 'wind_deg', 'rain_3h', 'clouds_all', 'weather_id', 'weather_main', 'weather_description']"
          ]
        }
      ],
      "source": [
        "df.columns"
      ]
    },
    {
      "cell_type": "markdown",
      "id": "74d07076-51f7-4940-ad76-fe3bf35ff190",
      "metadata": {
        "id": "74d07076-51f7-4940-ad76-fe3bf35ff190"
      },
      "source": [
        "### Creating the Dimension and Fact tables\n",
        "#### Creating a dataframe for Location Dimension according to Target Dimension Model"
      ]
    },
    {
      "cell_type": "code",
      "execution_count": null,
      "id": "c0c35b5b-750c-4b96-8959-ad46a313a2f8",
      "metadata": {
        "execution": {
          "iopub.execute_input": "2022-12-19T10:56:00.178762Z",
          "iopub.status.busy": "2022-12-19T10:56:00.178325Z",
          "iopub.status.idle": "2022-12-19T10:56:00.710653Z",
          "shell.execute_reply": "2022-12-19T10:56:00.708391Z",
          "shell.execute_reply.started": "2022-12-19T10:56:00.178716Z"
        },
        "id": "c0c35b5b-750c-4b96-8959-ad46a313a2f8",
        "outputId": "c9a0bb3a-4915-4606-bfe8-551ae178ef00",
        "colab": {
          "referenced_widgets": [
            "e5ce273e67d045e7a26020d79d1296d3",
            ""
          ]
        }
      },
      "outputs": [
        {
          "data": {
            "application/vnd.jupyter.widget-view+json": {
              "model_id": "e5ce273e67d045e7a26020d79d1296d3",
              "version_major": 2,
              "version_minor": 0
            },
            "text/plain": [
              "VBox()"
            ]
          },
          "metadata": {},
          "output_type": "display_data"
        },
        {
          "data": {
            "application/vnd.jupyter.widget-view+json": {
              "model_id": "",
              "version_major": 2,
              "version_minor": 0
            },
            "text/plain": [
              "FloatProgress(value=0.0, bar_style='info', description='Progress:', layout=Layout(height='25px', width='50%'),…"
            ]
          },
          "metadata": {},
          "output_type": "display_data"
        }
      ],
      "source": [
        "# create a temporary df and selecting required columns & making sure records are distinct\n",
        "location = df.select('atm_location', 'atm_streetname', 'atm_street_number', 'atm_zipcode', 'atm_lat', 'atm_lon').distinct()"
      ]
    },
    {
      "cell_type": "code",
      "execution_count": null,
      "id": "63f09e84-6fc9-4ba2-b92b-89b259309271",
      "metadata": {
        "execution": {
          "iopub.execute_input": "2022-12-19T10:56:12.565469Z",
          "iopub.status.busy": "2022-12-19T10:56:12.565139Z",
          "iopub.status.idle": "2022-12-19T10:56:12.739913Z",
          "shell.execute_reply": "2022-12-19T10:56:12.739251Z",
          "shell.execute_reply.started": "2022-12-19T10:56:12.565438Z"
        },
        "id": "63f09e84-6fc9-4ba2-b92b-89b259309271",
        "outputId": "d04c378f-c6e6-4250-b273-d05e77ebe093",
        "colab": {
          "referenced_widgets": [
            "09f150e50ae3485a98429480e404d3fd",
            ""
          ]
        }
      },
      "outputs": [
        {
          "data": {
            "application/vnd.jupyter.widget-view+json": {
              "model_id": "09f150e50ae3485a98429480e404d3fd",
              "version_major": 2,
              "version_minor": 0
            },
            "text/plain": [
              "VBox()"
            ]
          },
          "metadata": {},
          "output_type": "display_data"
        },
        {
          "data": {
            "application/vnd.jupyter.widget-view+json": {
              "model_id": "",
              "version_major": 2,
              "version_minor": 0
            },
            "text/plain": [
              "FloatProgress(value=0.0, bar_style='info', description='Progress:', layout=Layout(height='25px', width='50%'),…"
            ]
          },
          "metadata": {},
          "output_type": "display_data"
        }
      ],
      "source": [
        "from pyspark.sql.functions import *"
      ]
    },
    {
      "cell_type": "code",
      "execution_count": null,
      "id": "5135de95-2e33-4048-b8e7-d5cbdb292e15",
      "metadata": {
        "execution": {
          "iopub.execute_input": "2022-12-19T10:56:27.979958Z",
          "iopub.status.busy": "2022-12-19T10:56:27.979263Z",
          "iopub.status.idle": "2022-12-19T10:56:52.282581Z",
          "shell.execute_reply": "2022-12-19T10:56:52.280052Z",
          "shell.execute_reply.started": "2022-12-19T10:56:27.979912Z"
        },
        "tags": [],
        "id": "5135de95-2e33-4048-b8e7-d5cbdb292e15",
        "outputId": "6527667b-4806-432d-8cff-30489fdde482",
        "colab": {
          "referenced_widgets": [
            "eadf3ad463c0499193cc027eaf21686d",
            ""
          ]
        }
      },
      "outputs": [
        {
          "data": {
            "application/vnd.jupyter.widget-view+json": {
              "model_id": "eadf3ad463c0499193cc027eaf21686d",
              "version_major": 2,
              "version_minor": 0
            },
            "text/plain": [
              "VBox()"
            ]
          },
          "metadata": {},
          "output_type": "display_data"
        },
        {
          "data": {
            "application/vnd.jupyter.widget-view+json": {
              "model_id": "",
              "version_major": 2,
              "version_minor": 0
            },
            "text/plain": [
              "FloatProgress(value=0.0, bar_style='info', description='Progress:', layout=Layout(height='25px', width='50%'),…"
            ]
          },
          "metadata": {},
          "output_type": "display_data"
        },
        {
          "name": "stdout",
          "output_type": "stream",
          "text": [
            "+----------------+-------------------+-----------------+-----------+-------+-------+-----------+\n",
            "|    atm_location|     atm_streetname|atm_street_number|atm_zipcode|atm_lat|atm_lon|location_id|\n",
            "+----------------+-------------------+-----------------+-----------+-------+-------+-----------+\n",
            "|         Kolding|           Vejlevej|              135|       6000| 55.505|  9.457|          0|\n",
            "|  Skelagervej 15|        Skelagervej|               15|       9000| 57.023|  9.891|          1|\n",
            "|Intern HolbÃƒÂ¦k|        Slotsvolden|                7|       4300| 55.718| 11.704|          2|\n",
            "|          Odense|       FÃƒÂ¦lledvej|                3|       5000| 55.394|  10.37|          3|\n",
            "|           Ikast|RÃƒÂ¥dhusstrÃƒÂ¦det|               12|       7430| 56.139|  9.154|          4|\n",
            "+----------------+-------------------+-----------------+-----------+-------+-------+-----------+\n",
            "only showing top 5 rows"
          ]
        }
      ],
      "source": [
        "# creating the primary key column\n",
        "df_temp = location.rdd.zipWithIndex().toDF()\n",
        "dim_location = df_temp.select(col(\"_1.*\"),col(\"_2\").alias('location_id'))\n",
        "dim_location.show(5)"
      ]
    },
    {
      "cell_type": "code",
      "execution_count": null,
      "id": "cb9b0904-5334-4913-a395-552375bb3dd8",
      "metadata": {
        "execution": {
          "iopub.execute_input": "2022-12-19T10:57:14.990647Z",
          "iopub.status.busy": "2022-12-19T10:57:14.990222Z",
          "iopub.status.idle": "2022-12-19T10:57:15.233778Z",
          "shell.execute_reply": "2022-12-19T10:57:15.232766Z",
          "shell.execute_reply.started": "2022-12-19T10:57:14.990615Z"
        },
        "id": "cb9b0904-5334-4913-a395-552375bb3dd8",
        "outputId": "42d84267-9032-48e4-f7be-3acf2c7671e6",
        "colab": {
          "referenced_widgets": [
            "e4de98757d73421898fc39fe345a526b",
            ""
          ]
        }
      },
      "outputs": [
        {
          "data": {
            "application/vnd.jupyter.widget-view+json": {
              "model_id": "e4de98757d73421898fc39fe345a526b",
              "version_major": 2,
              "version_minor": 0
            },
            "text/plain": [
              "VBox()"
            ]
          },
          "metadata": {},
          "output_type": "display_data"
        },
        {
          "data": {
            "application/vnd.jupyter.widget-view+json": {
              "model_id": "",
              "version_major": 2,
              "version_minor": 0
            },
            "text/plain": [
              "FloatProgress(value=0.0, bar_style='info', description='Progress:', layout=Layout(height='25px', width='50%'),…"
            ]
          },
          "metadata": {},
          "output_type": "display_data"
        }
      ],
      "source": [
        "# renaming the columns as per requirement\n",
        "DIM_LOCATION = dim_location.withColumnRenamed('atm_location','location').withColumnRenamed('atm_streetname','streetname').withColumnRenamed('atm_street_number','street_number').withColumnRenamed('atm_zipcode','zipcode').withColumnRenamed('atm_lat','lat').withColumnRenamed('atm_lon','lon')"
      ]
    },
    {
      "cell_type": "code",
      "execution_count": null,
      "id": "32bfbb93-f264-4738-913a-501360159e44",
      "metadata": {
        "execution": {
          "iopub.execute_input": "2022-12-19T10:57:34.713761Z",
          "iopub.status.busy": "2022-12-19T10:57:34.713427Z",
          "iopub.status.idle": "2022-12-19T10:57:35.136540Z",
          "shell.execute_reply": "2022-12-19T10:57:35.135631Z",
          "shell.execute_reply.started": "2022-12-19T10:57:34.713731Z"
        },
        "id": "32bfbb93-f264-4738-913a-501360159e44",
        "outputId": "3480668a-ef52-4296-9a36-b83d4fa72fe3",
        "colab": {
          "referenced_widgets": [
            "00955099290b4acd86d7dbef565e87cb",
            ""
          ]
        }
      },
      "outputs": [
        {
          "data": {
            "application/vnd.jupyter.widget-view+json": {
              "model_id": "00955099290b4acd86d7dbef565e87cb",
              "version_major": 2,
              "version_minor": 0
            },
            "text/plain": [
              "VBox()"
            ]
          },
          "metadata": {},
          "output_type": "display_data"
        },
        {
          "data": {
            "application/vnd.jupyter.widget-view+json": {
              "model_id": "",
              "version_major": 2,
              "version_minor": 0
            },
            "text/plain": [
              "FloatProgress(value=0.0, bar_style='info', description='Progress:', layout=Layout(height='25px', width='50%'),…"
            ]
          },
          "metadata": {},
          "output_type": "display_data"
        }
      ],
      "source": [
        "# rearranging the columns according to the target model\n",
        "DIM_LOCATION = DIM_LOCATION.select('location_id', 'location', 'streetname', 'street_number', 'zipcode', 'lat', 'lon')"
      ]
    },
    {
      "cell_type": "code",
      "execution_count": null,
      "id": "398b3e79-6506-4a63-84d2-5ba7429f7270",
      "metadata": {
        "execution": {
          "iopub.execute_input": "2022-12-19T10:57:48.129564Z",
          "iopub.status.busy": "2022-12-19T10:57:48.129261Z",
          "iopub.status.idle": "2022-12-19T10:57:48.307553Z",
          "shell.execute_reply": "2022-12-19T10:57:48.306261Z",
          "shell.execute_reply.started": "2022-12-19T10:57:48.129538Z"
        },
        "id": "398b3e79-6506-4a63-84d2-5ba7429f7270",
        "outputId": "bfe15d14-7f09-4373-ac95-aa572a8cc3c1",
        "colab": {
          "referenced_widgets": [
            "17454450bf484801adc983d21bbb592e",
            ""
          ]
        }
      },
      "outputs": [
        {
          "data": {
            "application/vnd.jupyter.widget-view+json": {
              "model_id": "17454450bf484801adc983d21bbb592e",
              "version_major": 2,
              "version_minor": 0
            },
            "text/plain": [
              "VBox()"
            ]
          },
          "metadata": {},
          "output_type": "display_data"
        },
        {
          "data": {
            "application/vnd.jupyter.widget-view+json": {
              "model_id": "",
              "version_major": 2,
              "version_minor": 0
            },
            "text/plain": [
              "FloatProgress(value=0.0, bar_style='info', description='Progress:', layout=Layout(height='25px', width='50%'),…"
            ]
          },
          "metadata": {},
          "output_type": "display_data"
        },
        {
          "name": "stdout",
          "output_type": "stream",
          "text": [
            "['location_id', 'location', 'streetname', 'street_number', 'zipcode', 'lat', 'lon']"
          ]
        }
      ],
      "source": [
        "# checking that all required columns are present and named correctly\n",
        "DIM_LOCATION.columns"
      ]
    },
    {
      "cell_type": "code",
      "execution_count": null,
      "id": "61e2a77c-6b84-45de-8021-f2ad7faf6f15",
      "metadata": {
        "execution": {
          "iopub.execute_input": "2022-12-19T10:57:59.276052Z",
          "iopub.status.busy": "2022-12-19T10:57:59.275740Z",
          "iopub.status.idle": "2022-12-19T10:58:21.612603Z",
          "shell.execute_reply": "2022-12-19T10:58:21.611629Z",
          "shell.execute_reply.started": "2022-12-19T10:57:59.276025Z"
        },
        "id": "61e2a77c-6b84-45de-8021-f2ad7faf6f15",
        "outputId": "8672beaf-c57a-4d83-cf92-24d1113dd006",
        "colab": {
          "referenced_widgets": [
            "7004eead550242a99a11558386a478e6",
            ""
          ]
        }
      },
      "outputs": [
        {
          "data": {
            "application/vnd.jupyter.widget-view+json": {
              "model_id": "7004eead550242a99a11558386a478e6",
              "version_major": 2,
              "version_minor": 0
            },
            "text/plain": [
              "VBox()"
            ]
          },
          "metadata": {},
          "output_type": "display_data"
        },
        {
          "data": {
            "application/vnd.jupyter.widget-view+json": {
              "model_id": "",
              "version_major": 2,
              "version_minor": 0
            },
            "text/plain": [
              "FloatProgress(value=0.0, bar_style='info', description='Progress:', layout=Layout(height='25px', width='50%'),…"
            ]
          },
          "metadata": {},
          "output_type": "display_data"
        },
        {
          "name": "stdout",
          "output_type": "stream",
          "text": [
            "109"
          ]
        }
      ],
      "source": [
        "# validating the count of the dataframe\n",
        "DIM_LOCATION.select('*').count()"
      ]
    },
    {
      "cell_type": "markdown",
      "id": "8c0f825c-a5e4-462f-9df0-f24722ed4222",
      "metadata": {
        "id": "8c0f825c-a5e4-462f-9df0-f24722ed4222"
      },
      "source": [
        "#### Creating a dataframe for ATM Dimension according to Target Dimension Model"
      ]
    },
    {
      "cell_type": "code",
      "execution_count": null,
      "id": "820fbdd4-fccd-4036-8567-543f6e79eacd",
      "metadata": {
        "execution": {
          "iopub.execute_input": "2022-12-19T10:58:44.776792Z",
          "iopub.status.busy": "2022-12-19T10:58:44.776475Z",
          "iopub.status.idle": "2022-12-19T10:58:45.021217Z",
          "shell.execute_reply": "2022-12-19T10:58:45.020159Z",
          "shell.execute_reply.started": "2022-12-19T10:58:44.776762Z"
        },
        "id": "820fbdd4-fccd-4036-8567-543f6e79eacd",
        "outputId": "b238c3ae-f553-4c47-ecf7-9e0db5b7f828",
        "colab": {
          "referenced_widgets": [
            "e9408c362e51445da4d5c32bbb1ea0b9",
            ""
          ]
        }
      },
      "outputs": [
        {
          "data": {
            "application/vnd.jupyter.widget-view+json": {
              "model_id": "e9408c362e51445da4d5c32bbb1ea0b9",
              "version_major": 2,
              "version_minor": 0
            },
            "text/plain": [
              "VBox()"
            ]
          },
          "metadata": {},
          "output_type": "display_data"
        },
        {
          "data": {
            "application/vnd.jupyter.widget-view+json": {
              "model_id": "",
              "version_major": 2,
              "version_minor": 0
            },
            "text/plain": [
              "FloatProgress(value=0.0, bar_style='info', description='Progress:', layout=Layout(height='25px', width='50%'),…"
            ]
          },
          "metadata": {},
          "output_type": "display_data"
        }
      ],
      "source": [
        "# creating a temporary df and selecting required columns\n",
        "atm = df.select('atm_id', 'atm_manufacturer', 'atm_lat', 'atm_lon')"
      ]
    },
    {
      "cell_type": "code",
      "execution_count": null,
      "id": "fb812100-7538-4e04-8263-c4f790ba4ada",
      "metadata": {
        "execution": {
          "iopub.execute_input": "2022-12-19T10:58:54.845203Z",
          "iopub.status.busy": "2022-12-19T10:58:54.844895Z",
          "iopub.status.idle": "2022-12-19T10:58:55.020358Z",
          "shell.execute_reply": "2022-12-19T10:58:55.019373Z",
          "shell.execute_reply.started": "2022-12-19T10:58:54.845176Z"
        },
        "id": "fb812100-7538-4e04-8263-c4f790ba4ada",
        "outputId": "22cbbc28-fd9b-4f70-8c26-41337dddc379",
        "colab": {
          "referenced_widgets": [
            "86bcc540761944f3b68c2c0765a515be",
            ""
          ]
        }
      },
      "outputs": [
        {
          "data": {
            "application/vnd.jupyter.widget-view+json": {
              "model_id": "86bcc540761944f3b68c2c0765a515be",
              "version_major": 2,
              "version_minor": 0
            },
            "text/plain": [
              "VBox()"
            ]
          },
          "metadata": {},
          "output_type": "display_data"
        },
        {
          "data": {
            "application/vnd.jupyter.widget-view+json": {
              "model_id": "",
              "version_major": 2,
              "version_minor": 0
            },
            "text/plain": [
              "FloatProgress(value=0.0, bar_style='info', description='Progress:', layout=Layout(height='25px', width='50%'),…"
            ]
          },
          "metadata": {},
          "output_type": "display_data"
        }
      ],
      "source": [
        "# renaming the column atm_id to atm_number as per requirement\n",
        "atm = atm.withColumnRenamed('atm_id', 'atm_number')"
      ]
    },
    {
      "cell_type": "code",
      "execution_count": null,
      "id": "ba152b54-ec7b-4290-ba73-8ac132fd466c",
      "metadata": {
        "execution": {
          "iopub.execute_input": "2022-12-19T10:59:07.624465Z",
          "iopub.status.busy": "2022-12-19T10:59:07.624159Z",
          "iopub.status.idle": "2022-12-19T10:59:07.804296Z",
          "shell.execute_reply": "2022-12-19T10:59:07.803518Z",
          "shell.execute_reply.started": "2022-12-19T10:59:07.624439Z"
        },
        "id": "ba152b54-ec7b-4290-ba73-8ac132fd466c",
        "outputId": "e8d9cad8-793c-4507-f456-b44bfa80f4a5",
        "colab": {
          "referenced_widgets": [
            "f9c410a8b6434eff91930021b16d0b91",
            ""
          ]
        }
      },
      "outputs": [
        {
          "data": {
            "application/vnd.jupyter.widget-view+json": {
              "model_id": "f9c410a8b6434eff91930021b16d0b91",
              "version_major": 2,
              "version_minor": 0
            },
            "text/plain": [
              "VBox()"
            ]
          },
          "metadata": {},
          "output_type": "display_data"
        },
        {
          "data": {
            "application/vnd.jupyter.widget-view+json": {
              "model_id": "",
              "version_major": 2,
              "version_minor": 0
            },
            "text/plain": [
              "FloatProgress(value=0.0, bar_style='info', description='Progress:', layout=Layout(height='25px', width='50%'),…"
            ]
          },
          "metadata": {},
          "output_type": "display_data"
        }
      ],
      "source": [
        "# joining the dim_location and atm dataframes\n",
        "atm = atm.join(dim_location, on = ['atm_lat', 'atm_lon'], how = \"left\")"
      ]
    },
    {
      "cell_type": "code",
      "execution_count": null,
      "id": "bdca4199-dd7e-4bf3-9c04-484246d93423",
      "metadata": {
        "execution": {
          "iopub.execute_input": "2022-12-19T10:59:16.081332Z",
          "iopub.status.busy": "2022-12-19T10:59:16.081022Z",
          "iopub.status.idle": "2022-12-19T10:59:16.305272Z",
          "shell.execute_reply": "2022-12-19T10:59:16.304221Z",
          "shell.execute_reply.started": "2022-12-19T10:59:16.081306Z"
        },
        "id": "bdca4199-dd7e-4bf3-9c04-484246d93423",
        "outputId": "570d3817-e1e0-4d38-8238-cc5a95002c79",
        "colab": {
          "referenced_widgets": [
            "359b24d9e5be4fabbabdc1bafff7bfe7",
            ""
          ]
        }
      },
      "outputs": [
        {
          "data": {
            "application/vnd.jupyter.widget-view+json": {
              "model_id": "359b24d9e5be4fabbabdc1bafff7bfe7",
              "version_major": 2,
              "version_minor": 0
            },
            "text/plain": [
              "VBox()"
            ]
          },
          "metadata": {},
          "output_type": "display_data"
        },
        {
          "data": {
            "application/vnd.jupyter.widget-view+json": {
              "model_id": "",
              "version_major": 2,
              "version_minor": 0
            },
            "text/plain": [
              "FloatProgress(value=0.0, bar_style='info', description='Progress:', layout=Layout(height='25px', width='50%'),…"
            ]
          },
          "metadata": {},
          "output_type": "display_data"
        },
        {
          "name": "stdout",
          "output_type": "stream",
          "text": [
            "['atm_lat', 'atm_lon', 'atm_number', 'atm_manufacturer', 'atm_location', 'atm_streetname', 'atm_street_number', 'atm_zipcode', 'location_id']"
          ]
        }
      ],
      "source": [
        "# checking to columns in the joined df\n",
        "atm.columns"
      ]
    },
    {
      "cell_type": "code",
      "execution_count": null,
      "id": "c0d23ec9-5ec3-48b9-8e9f-7547cbb90463",
      "metadata": {
        "execution": {
          "iopub.execute_input": "2022-12-19T10:59:25.312430Z",
          "iopub.status.busy": "2022-12-19T10:59:25.312044Z",
          "iopub.status.idle": "2022-12-19T10:59:25.498621Z",
          "shell.execute_reply": "2022-12-19T10:59:25.497940Z",
          "shell.execute_reply.started": "2022-12-19T10:59:25.312397Z"
        },
        "id": "c0d23ec9-5ec3-48b9-8e9f-7547cbb90463",
        "outputId": "3b717dc9-e09d-4257-b8f4-c2da2301126a",
        "colab": {
          "referenced_widgets": [
            "7d14f8c9195a4238943c17d476ba04bf",
            ""
          ]
        }
      },
      "outputs": [
        {
          "data": {
            "application/vnd.jupyter.widget-view+json": {
              "model_id": "7d14f8c9195a4238943c17d476ba04bf",
              "version_major": 2,
              "version_minor": 0
            },
            "text/plain": [
              "VBox()"
            ]
          },
          "metadata": {},
          "output_type": "display_data"
        },
        {
          "data": {
            "application/vnd.jupyter.widget-view+json": {
              "model_id": "",
              "version_major": 2,
              "version_minor": 0
            },
            "text/plain": [
              "FloatProgress(value=0.0, bar_style='info', description='Progress:', layout=Layout(height='25px', width='50%'),…"
            ]
          },
          "metadata": {},
          "output_type": "display_data"
        }
      ],
      "source": [
        "# selecting the required columns and making sure records are distinct\n",
        "atm = atm.select('atm_number', 'atm_manufacturer', 'location_id').distinct()"
      ]
    },
    {
      "cell_type": "code",
      "execution_count": null,
      "id": "74962f24-4177-4b13-a0c4-f0f15bcee65a",
      "metadata": {
        "execution": {
          "iopub.execute_input": "2022-12-19T10:59:37.492920Z",
          "iopub.status.busy": "2022-12-19T10:59:37.492502Z",
          "iopub.status.idle": "2022-12-19T10:59:37.702488Z",
          "shell.execute_reply": "2022-12-19T10:59:37.701767Z",
          "shell.execute_reply.started": "2022-12-19T10:59:37.492885Z"
        },
        "id": "74962f24-4177-4b13-a0c4-f0f15bcee65a",
        "outputId": "aa371e4e-5c25-4464-d211-f8ac77b57b82",
        "colab": {
          "referenced_widgets": [
            "64f0882e59c64d949d36b14c0de3f094",
            ""
          ]
        }
      },
      "outputs": [
        {
          "data": {
            "application/vnd.jupyter.widget-view+json": {
              "model_id": "64f0882e59c64d949d36b14c0de3f094",
              "version_major": 2,
              "version_minor": 0
            },
            "text/plain": [
              "VBox()"
            ]
          },
          "metadata": {},
          "output_type": "display_data"
        },
        {
          "data": {
            "application/vnd.jupyter.widget-view+json": {
              "model_id": "",
              "version_major": 2,
              "version_minor": 0
            },
            "text/plain": [
              "FloatProgress(value=0.0, bar_style='info', description='Progress:', layout=Layout(height='25px', width='50%'),…"
            ]
          },
          "metadata": {},
          "output_type": "display_data"
        }
      ],
      "source": [
        "# renaming the columns as per requirement\n",
        "atm = atm.withColumnRenamed('location_id', 'atm_location_id')"
      ]
    },
    {
      "cell_type": "code",
      "execution_count": null,
      "id": "77f6f2da-07b1-43f1-8785-02409f96420f",
      "metadata": {
        "execution": {
          "iopub.execute_input": "2022-12-19T10:59:46.747588Z",
          "iopub.status.busy": "2022-12-19T10:59:46.747289Z",
          "iopub.status.idle": "2022-12-19T10:59:46.931395Z",
          "shell.execute_reply": "2022-12-19T10:59:46.930410Z",
          "shell.execute_reply.started": "2022-12-19T10:59:46.747562Z"
        },
        "id": "77f6f2da-07b1-43f1-8785-02409f96420f",
        "outputId": "93b60170-d5ce-4f0d-d413-a998fca6bb31",
        "colab": {
          "referenced_widgets": [
            "e06e6d2cba764a1fa1c95f4af3f7a4f4",
            ""
          ]
        }
      },
      "outputs": [
        {
          "data": {
            "application/vnd.jupyter.widget-view+json": {
              "model_id": "e06e6d2cba764a1fa1c95f4af3f7a4f4",
              "version_major": 2,
              "version_minor": 0
            },
            "text/plain": [
              "VBox()"
            ]
          },
          "metadata": {},
          "output_type": "display_data"
        },
        {
          "data": {
            "application/vnd.jupyter.widget-view+json": {
              "model_id": "",
              "version_major": 2,
              "version_minor": 0
            },
            "text/plain": [
              "FloatProgress(value=0.0, bar_style='info', description='Progress:', layout=Layout(height='25px', width='50%'),…"
            ]
          },
          "metadata": {},
          "output_type": "display_data"
        },
        {
          "name": "stdout",
          "output_type": "stream",
          "text": [
            "['atm_number', 'atm_manufacturer', 'atm_location_id']"
          ]
        }
      ],
      "source": [
        "# viewing changes in columns\n",
        "atm.columns"
      ]
    },
    {
      "cell_type": "code",
      "execution_count": null,
      "id": "77249300-3414-4b2c-b26a-ac0901d37504",
      "metadata": {
        "execution": {
          "iopub.execute_input": "2022-12-19T10:59:56.072055Z",
          "iopub.status.busy": "2022-12-19T10:59:56.071752Z",
          "iopub.status.idle": "2022-12-19T11:00:32.887854Z",
          "shell.execute_reply": "2022-12-19T11:00:32.886863Z",
          "shell.execute_reply.started": "2022-12-19T10:59:56.072027Z"
        },
        "id": "77249300-3414-4b2c-b26a-ac0901d37504",
        "outputId": "6ad118f5-2ff3-4fb9-bc3e-348ede281e77",
        "colab": {
          "referenced_widgets": [
            "ecfaaa6c69434f9bb43eddd36c0f1ad8",
            ""
          ]
        }
      },
      "outputs": [
        {
          "data": {
            "application/vnd.jupyter.widget-view+json": {
              "model_id": "ecfaaa6c69434f9bb43eddd36c0f1ad8",
              "version_major": 2,
              "version_minor": 0
            },
            "text/plain": [
              "VBox()"
            ]
          },
          "metadata": {},
          "output_type": "display_data"
        },
        {
          "data": {
            "application/vnd.jupyter.widget-view+json": {
              "model_id": "",
              "version_major": 2,
              "version_minor": 0
            },
            "text/plain": [
              "FloatProgress(value=0.0, bar_style='info', description='Progress:', layout=Layout(height='25px', width='50%'),…"
            ]
          },
          "metadata": {},
          "output_type": "display_data"
        },
        {
          "name": "stdout",
          "output_type": "stream",
          "text": [
            "+----------+----------------+---------------+------+\n",
            "|atm_number|atm_manufacturer|atm_location_id|atm_id|\n",
            "+----------+----------------+---------------+------+\n",
            "|        53|             NCR|             28|     0|\n",
            "|        30|             NCR|             57|     1|\n",
            "|        36|             NCR|             61|     2|\n",
            "|        40| Diebold Nixdorf|             86|     3|\n",
            "|        66|             NCR|             20|     4|\n",
            "+----------+----------------+---------------+------+\n",
            "only showing top 5 rows"
          ]
        }
      ],
      "source": [
        "# creating the primary key column\n",
        "df_temp = atm.rdd.zipWithIndex().toDF()\n",
        "dim_atm = df_temp.select(col(\"_1.*\"),col(\"_2\").alias('atm_id'))\n",
        "dim_atm.show(5)"
      ]
    },
    {
      "cell_type": "code",
      "execution_count": null,
      "id": "372cb29b-e209-4317-885a-8b774e2cf550",
      "metadata": {
        "execution": {
          "iopub.execute_input": "2022-12-19T11:00:53.855744Z",
          "iopub.status.busy": "2022-12-19T11:00:53.855442Z",
          "iopub.status.idle": "2022-12-19T11:00:54.078096Z",
          "shell.execute_reply": "2022-12-19T11:00:54.077314Z",
          "shell.execute_reply.started": "2022-12-19T11:00:53.855716Z"
        },
        "id": "372cb29b-e209-4317-885a-8b774e2cf550",
        "outputId": "693c3050-78ec-4b89-a92b-a13d598d8158",
        "colab": {
          "referenced_widgets": [
            "01185da3f1ae44bfa035fe7389db3990",
            ""
          ]
        }
      },
      "outputs": [
        {
          "data": {
            "application/vnd.jupyter.widget-view+json": {
              "model_id": "01185da3f1ae44bfa035fe7389db3990",
              "version_major": 2,
              "version_minor": 0
            },
            "text/plain": [
              "VBox()"
            ]
          },
          "metadata": {},
          "output_type": "display_data"
        },
        {
          "data": {
            "application/vnd.jupyter.widget-view+json": {
              "model_id": "",
              "version_major": 2,
              "version_minor": 0
            },
            "text/plain": [
              "FloatProgress(value=0.0, bar_style='info', description='Progress:', layout=Layout(height='25px', width='50%'),…"
            ]
          },
          "metadata": {},
          "output_type": "display_data"
        }
      ],
      "source": [
        "# rearranging the columns according to the target model\n",
        "DIM_ATM = dim_atm.select('atm_id', 'atm_number', 'atm_manufacturer', 'atm_location_id')"
      ]
    },
    {
      "cell_type": "code",
      "execution_count": null,
      "id": "bb2c7e6a-e484-45e4-a789-77c4d76a0890",
      "metadata": {
        "execution": {
          "iopub.execute_input": "2022-12-19T11:01:03.484672Z",
          "iopub.status.busy": "2022-12-19T11:01:03.484103Z",
          "iopub.status.idle": "2022-12-19T11:01:03.713736Z",
          "shell.execute_reply": "2022-12-19T11:01:03.712873Z",
          "shell.execute_reply.started": "2022-12-19T11:01:03.484638Z"
        },
        "id": "bb2c7e6a-e484-45e4-a789-77c4d76a0890",
        "outputId": "4d6342fd-0034-4de2-f4ef-aa1c71ee0982",
        "colab": {
          "referenced_widgets": [
            "3c6fe6f65ec74ee081b9f51bfa4e674d",
            ""
          ]
        }
      },
      "outputs": [
        {
          "data": {
            "application/vnd.jupyter.widget-view+json": {
              "model_id": "3c6fe6f65ec74ee081b9f51bfa4e674d",
              "version_major": 2,
              "version_minor": 0
            },
            "text/plain": [
              "VBox()"
            ]
          },
          "metadata": {},
          "output_type": "display_data"
        },
        {
          "data": {
            "application/vnd.jupyter.widget-view+json": {
              "model_id": "",
              "version_major": 2,
              "version_minor": 0
            },
            "text/plain": [
              "FloatProgress(value=0.0, bar_style='info', description='Progress:', layout=Layout(height='25px', width='50%'),…"
            ]
          },
          "metadata": {},
          "output_type": "display_data"
        },
        {
          "name": "stdout",
          "output_type": "stream",
          "text": [
            "['atm_id', 'atm_number', 'atm_manufacturer', 'atm_location_id']"
          ]
        }
      ],
      "source": [
        "# checking that all required columns are present and named correctly\n",
        "DIM_ATM.columns"
      ]
    },
    {
      "cell_type": "code",
      "execution_count": null,
      "id": "9ff98e18-4f85-44d7-a67b-6af109265184",
      "metadata": {
        "execution": {
          "iopub.execute_input": "2022-12-19T11:01:13.581094Z",
          "iopub.status.busy": "2022-12-19T11:01:13.580560Z",
          "iopub.status.idle": "2022-12-19T11:01:15.113261Z",
          "shell.execute_reply": "2022-12-19T11:01:15.112564Z",
          "shell.execute_reply.started": "2022-12-19T11:01:13.581059Z"
        },
        "id": "9ff98e18-4f85-44d7-a67b-6af109265184",
        "outputId": "05ac3211-9279-490d-fb78-11c568b93100",
        "colab": {
          "referenced_widgets": [
            "02add4612e634927b1b9eaa9ce2fd6f9",
            ""
          ]
        }
      },
      "outputs": [
        {
          "data": {
            "application/vnd.jupyter.widget-view+json": {
              "model_id": "02add4612e634927b1b9eaa9ce2fd6f9",
              "version_major": 2,
              "version_minor": 0
            },
            "text/plain": [
              "VBox()"
            ]
          },
          "metadata": {},
          "output_type": "display_data"
        },
        {
          "data": {
            "application/vnd.jupyter.widget-view+json": {
              "model_id": "",
              "version_major": 2,
              "version_minor": 0
            },
            "text/plain": [
              "FloatProgress(value=0.0, bar_style='info', description='Progress:', layout=Layout(height='25px', width='50%'),…"
            ]
          },
          "metadata": {},
          "output_type": "display_data"
        },
        {
          "name": "stdout",
          "output_type": "stream",
          "text": [
            "156"
          ]
        }
      ],
      "source": [
        "# validating the count of the dataframe\n",
        "DIM_ATM.select('*').count()"
      ]
    },
    {
      "cell_type": "markdown",
      "id": "8c097cd3-1819-4767-b82b-4b396025d5dd",
      "metadata": {
        "id": "8c097cd3-1819-4767-b82b-4b396025d5dd"
      },
      "source": [
        "#### Creating a dataframe for Date Dimension according to Target Dimension Model"
      ]
    },
    {
      "cell_type": "code",
      "execution_count": null,
      "id": "304f9eb7-533d-4dba-9d42-97e2e27a919e",
      "metadata": {
        "execution": {
          "iopub.execute_input": "2022-12-19T11:01:34.995979Z",
          "iopub.status.busy": "2022-12-19T11:01:34.995667Z",
          "iopub.status.idle": "2022-12-19T11:01:35.240793Z",
          "shell.execute_reply": "2022-12-19T11:01:35.236254Z",
          "shell.execute_reply.started": "2022-12-19T11:01:34.995951Z"
        },
        "id": "304f9eb7-533d-4dba-9d42-97e2e27a919e",
        "outputId": "09b44d14-9bac-43e2-e328-f45886ac9c35",
        "colab": {
          "referenced_widgets": [
            "4ecc5ac0893e490697fe08008cfbf3d3",
            ""
          ]
        }
      },
      "outputs": [
        {
          "data": {
            "application/vnd.jupyter.widget-view+json": {
              "model_id": "4ecc5ac0893e490697fe08008cfbf3d3",
              "version_major": 2,
              "version_minor": 0
            },
            "text/plain": [
              "VBox()"
            ]
          },
          "metadata": {},
          "output_type": "display_data"
        },
        {
          "data": {
            "application/vnd.jupyter.widget-view+json": {
              "model_id": "",
              "version_major": 2,
              "version_minor": 0
            },
            "text/plain": [
              "FloatProgress(value=0.0, bar_style='info', description='Progress:', layout=Layout(height='25px', width='50%'),…"
            ]
          },
          "metadata": {},
          "output_type": "display_data"
        }
      ],
      "source": [
        "# creating a temporary df and selecting required columns\n",
        "date = df.select('year', 'month', 'day', 'hour', 'weekday')"
      ]
    },
    {
      "cell_type": "code",
      "execution_count": null,
      "id": "d672fe1b-09b5-41ac-8097-bbcaef80ae89",
      "metadata": {
        "execution": {
          "iopub.execute_input": "2022-12-19T11:01:54.321479Z",
          "iopub.status.busy": "2022-12-19T11:01:54.321172Z",
          "iopub.status.idle": "2022-12-19T11:01:54.516976Z",
          "shell.execute_reply": "2022-12-19T11:01:54.515923Z",
          "shell.execute_reply.started": "2022-12-19T11:01:54.321452Z"
        },
        "id": "d672fe1b-09b5-41ac-8097-bbcaef80ae89",
        "outputId": "7e19e48e-a1e2-48bc-83df-5d32d78d9be5",
        "colab": {
          "referenced_widgets": [
            "52e826f6999f449d8ddb51b852788f45",
            ""
          ]
        }
      },
      "outputs": [
        {
          "data": {
            "application/vnd.jupyter.widget-view+json": {
              "model_id": "52e826f6999f449d8ddb51b852788f45",
              "version_major": 2,
              "version_minor": 0
            },
            "text/plain": [
              "VBox()"
            ]
          },
          "metadata": {},
          "output_type": "display_data"
        },
        {
          "data": {
            "application/vnd.jupyter.widget-view+json": {
              "model_id": "",
              "version_major": 2,
              "version_minor": 0
            },
            "text/plain": [
              "FloatProgress(value=0.0, bar_style='info', description='Progress:', layout=Layout(height='25px', width='50%'),…"
            ]
          },
          "metadata": {},
          "output_type": "display_data"
        }
      ],
      "source": [
        "date = date.withColumn('full_date', concat_ws('-', date.year, date.month, date.day))"
      ]
    },
    {
      "cell_type": "code",
      "execution_count": null,
      "id": "9f6a4690-1934-45d6-807e-51857d48f77e",
      "metadata": {
        "execution": {
          "iopub.execute_input": "2022-12-19T11:02:02.950314Z",
          "iopub.status.busy": "2022-12-19T11:02:02.949980Z",
          "iopub.status.idle": "2022-12-19T11:02:03.355815Z",
          "shell.execute_reply": "2022-12-19T11:02:03.354892Z",
          "shell.execute_reply.started": "2022-12-19T11:02:02.950283Z"
        },
        "id": "9f6a4690-1934-45d6-807e-51857d48f77e",
        "outputId": "2fe481b7-d03f-4d50-d509-3f0439ec97df",
        "colab": {
          "referenced_widgets": [
            "cb48aca6c5494880ab82a2d2544f339e",
            ""
          ]
        }
      },
      "outputs": [
        {
          "data": {
            "application/vnd.jupyter.widget-view+json": {
              "model_id": "cb48aca6c5494880ab82a2d2544f339e",
              "version_major": 2,
              "version_minor": 0
            },
            "text/plain": [
              "VBox()"
            ]
          },
          "metadata": {},
          "output_type": "display_data"
        },
        {
          "data": {
            "application/vnd.jupyter.widget-view+json": {
              "model_id": "",
              "version_major": 2,
              "version_minor": 0
            },
            "text/plain": [
              "FloatProgress(value=0.0, bar_style='info', description='Progress:', layout=Layout(height='25px', width='50%'),…"
            ]
          },
          "metadata": {},
          "output_type": "display_data"
        }
      ],
      "source": [
        "date = date.withColumn('full_time', concat_ws(':', date.hour, lit('00'), lit('00')))"
      ]
    },
    {
      "cell_type": "code",
      "execution_count": null,
      "id": "b6580e0d-083e-4189-b57e-b13ab2c4e9c0",
      "metadata": {
        "execution": {
          "iopub.execute_input": "2022-12-19T11:02:16.298243Z",
          "iopub.status.busy": "2022-12-19T11:02:16.297894Z",
          "iopub.status.idle": "2022-12-19T11:02:16.495955Z",
          "shell.execute_reply": "2022-12-19T11:02:16.495281Z",
          "shell.execute_reply.started": "2022-12-19T11:02:16.298211Z"
        },
        "id": "b6580e0d-083e-4189-b57e-b13ab2c4e9c0",
        "outputId": "011e5d67-f56b-41c5-fb54-22f57df08bfa",
        "colab": {
          "referenced_widgets": [
            "4d82cf96078f4efea6d94366f946c89a",
            ""
          ]
        }
      },
      "outputs": [
        {
          "data": {
            "application/vnd.jupyter.widget-view+json": {
              "model_id": "4d82cf96078f4efea6d94366f946c89a",
              "version_major": 2,
              "version_minor": 0
            },
            "text/plain": [
              "VBox()"
            ]
          },
          "metadata": {},
          "output_type": "display_data"
        },
        {
          "data": {
            "application/vnd.jupyter.widget-view+json": {
              "model_id": "",
              "version_major": 2,
              "version_minor": 0
            },
            "text/plain": [
              "FloatProgress(value=0.0, bar_style='info', description='Progress:', layout=Layout(height='25px', width='50%'),…"
            ]
          },
          "metadata": {},
          "output_type": "display_data"
        }
      ],
      "source": [
        "date = date.withColumn('full_date_time', concat_ws(' ', date.full_date, date.full_time))"
      ]
    },
    {
      "cell_type": "code",
      "execution_count": null,
      "id": "186dc0df-5018-4b15-b2a1-5079ecbe00ac",
      "metadata": {
        "execution": {
          "iopub.execute_input": "2022-12-19T11:02:25.167847Z",
          "iopub.status.busy": "2022-12-19T11:02:25.167157Z",
          "iopub.status.idle": "2022-12-19T11:02:25.682646Z",
          "shell.execute_reply": "2022-12-19T11:02:25.681017Z",
          "shell.execute_reply.started": "2022-12-19T11:02:25.167798Z"
        },
        "id": "186dc0df-5018-4b15-b2a1-5079ecbe00ac",
        "outputId": "8d6ae01e-edd3-45c5-d9ce-0dc179322aed",
        "colab": {
          "referenced_widgets": [
            "3735ce2195ff4db19260ef6d9177bc68",
            ""
          ]
        }
      },
      "outputs": [
        {
          "data": {
            "application/vnd.jupyter.widget-view+json": {
              "model_id": "3735ce2195ff4db19260ef6d9177bc68",
              "version_major": 2,
              "version_minor": 0
            },
            "text/plain": [
              "VBox()"
            ]
          },
          "metadata": {},
          "output_type": "display_data"
        },
        {
          "data": {
            "application/vnd.jupyter.widget-view+json": {
              "model_id": "",
              "version_major": 2,
              "version_minor": 0
            },
            "text/plain": [
              "FloatProgress(value=0.0, bar_style='info', description='Progress:', layout=Layout(height='25px', width='50%'),…"
            ]
          },
          "metadata": {},
          "output_type": "display_data"
        }
      ],
      "source": [
        "pattern = 'yyyy-MMM-dd HH:mm:ss'\n",
        "date = date.withColumn('full_date_time', unix_timestamp(date.full_date_time, pattern).cast('timestamp'))"
      ]
    },
    {
      "cell_type": "code",
      "execution_count": null,
      "id": "d194c911-483a-4cd2-a095-fc9424e951ba",
      "metadata": {
        "execution": {
          "iopub.execute_input": "2022-12-19T11:02:34.123732Z",
          "iopub.status.busy": "2022-12-19T11:02:34.123358Z",
          "iopub.status.idle": "2022-12-19T11:02:43.815888Z",
          "shell.execute_reply": "2022-12-19T11:02:43.814871Z",
          "shell.execute_reply.started": "2022-12-19T11:02:34.123701Z"
        },
        "tags": [],
        "id": "d194c911-483a-4cd2-a095-fc9424e951ba",
        "outputId": "1647a774-5a2b-4f04-90a6-1551d0beb4f4",
        "colab": {
          "referenced_widgets": [
            "7df5408f64f14774aec15fe3dfe2ce60",
            ""
          ]
        }
      },
      "outputs": [
        {
          "data": {
            "application/vnd.jupyter.widget-view+json": {
              "model_id": "7df5408f64f14774aec15fe3dfe2ce60",
              "version_major": 2,
              "version_minor": 0
            },
            "text/plain": [
              "VBox()"
            ]
          },
          "metadata": {},
          "output_type": "display_data"
        },
        {
          "data": {
            "application/vnd.jupyter.widget-view+json": {
              "model_id": "",
              "version_major": 2,
              "version_minor": 0
            },
            "text/plain": [
              "FloatProgress(value=0.0, bar_style='info', description='Progress:', layout=Layout(height='25px', width='50%'),…"
            ]
          },
          "metadata": {},
          "output_type": "display_data"
        },
        {
          "name": "stdout",
          "output_type": "stream",
          "text": [
            "+----+-------+---+----+-------+--------------+---------+-------------------+\n",
            "|year|month  |day|hour|weekday|full_date     |full_time|full_date_time     |\n",
            "+----+-------+---+----+-------+--------------+---------+-------------------+\n",
            "|2017|January|1  |0   |Sunday |2017-January-1|0:00:00  |2017-01-01 00:00:00|\n",
            "|2017|January|1  |0   |Sunday |2017-January-1|0:00:00  |2017-01-01 00:00:00|\n",
            "|2017|January|1  |0   |Sunday |2017-January-1|0:00:00  |2017-01-01 00:00:00|\n",
            "|2017|January|1  |0   |Sunday |2017-January-1|0:00:00  |2017-01-01 00:00:00|\n",
            "|2017|January|1  |0   |Sunday |2017-January-1|0:00:00  |2017-01-01 00:00:00|\n",
            "+----+-------+---+----+-------+--------------+---------+-------------------+\n",
            "only showing top 5 rows"
          ]
        }
      ],
      "source": [
        "date.show(5, truncate = False)"
      ]
    },
    {
      "cell_type": "code",
      "execution_count": null,
      "id": "229a9ed2-30d7-4abc-ac4a-5209d440ae25",
      "metadata": {
        "execution": {
          "iopub.execute_input": "2022-12-19T11:02:50.051811Z",
          "iopub.status.busy": "2022-12-19T11:02:50.051263Z",
          "iopub.status.idle": "2022-12-19T11:02:50.303921Z",
          "shell.execute_reply": "2022-12-19T11:02:50.303267Z",
          "shell.execute_reply.started": "2022-12-19T11:02:50.051766Z"
        },
        "id": "229a9ed2-30d7-4abc-ac4a-5209d440ae25",
        "outputId": "136ca999-dfb7-4e9e-a65e-9ae533812475",
        "colab": {
          "referenced_widgets": [
            "545bcc15996c48f9b2702b6bd851cd71",
            ""
          ]
        }
      },
      "outputs": [
        {
          "data": {
            "application/vnd.jupyter.widget-view+json": {
              "model_id": "545bcc15996c48f9b2702b6bd851cd71",
              "version_major": 2,
              "version_minor": 0
            },
            "text/plain": [
              "VBox()"
            ]
          },
          "metadata": {},
          "output_type": "display_data"
        },
        {
          "data": {
            "application/vnd.jupyter.widget-view+json": {
              "model_id": "",
              "version_major": 2,
              "version_minor": 0
            },
            "text/plain": [
              "FloatProgress(value=0.0, bar_style='info', description='Progress:', layout=Layout(height='25px', width='50%'),…"
            ]
          },
          "metadata": {},
          "output_type": "display_data"
        }
      ],
      "source": [
        "# selecting the required columns and making sure records are distinct\n",
        "date = date.select('year', 'month', 'day', 'hour', 'weekday', 'full_date_time').distinct()"
      ]
    },
    {
      "cell_type": "code",
      "execution_count": null,
      "id": "65843ba3-7361-484a-86fa-caf5816b0559",
      "metadata": {
        "execution": {
          "iopub.execute_input": "2022-12-19T11:02:58.347585Z",
          "iopub.status.busy": "2022-12-19T11:02:58.347246Z",
          "iopub.status.idle": "2022-12-19T11:03:28.816222Z",
          "shell.execute_reply": "2022-12-19T11:03:28.815176Z",
          "shell.execute_reply.started": "2022-12-19T11:02:58.347556Z"
        },
        "id": "65843ba3-7361-484a-86fa-caf5816b0559",
        "outputId": "e3d50783-eda6-4e4a-84ae-2052c3dc3a22",
        "colab": {
          "referenced_widgets": [
            "358e2337ea814145930ea81e58bc6481",
            ""
          ]
        }
      },
      "outputs": [
        {
          "data": {
            "application/vnd.jupyter.widget-view+json": {
              "model_id": "358e2337ea814145930ea81e58bc6481",
              "version_major": 2,
              "version_minor": 0
            },
            "text/plain": [
              "VBox()"
            ]
          },
          "metadata": {},
          "output_type": "display_data"
        },
        {
          "data": {
            "application/vnd.jupyter.widget-view+json": {
              "model_id": "",
              "version_major": 2,
              "version_minor": 0
            },
            "text/plain": [
              "FloatProgress(value=0.0, bar_style='info', description='Progress:', layout=Layout(height='25px', width='50%'),…"
            ]
          },
          "metadata": {},
          "output_type": "display_data"
        },
        {
          "name": "stdout",
          "output_type": "stream",
          "text": [
            "+----+--------+---+----+-------+-------------------+-------+\n",
            "|year|   month|day|hour|weekday|     full_date_time|date_id|\n",
            "+----+--------+---+----+-------+-------------------+-------+\n",
            "|2017| January|  6|   8| Friday|2017-01-06 08:00:00|      0|\n",
            "|2017| January| 16|  18| Monday|2017-01-16 18:00:00|      1|\n",
            "|2017| January| 29|   8| Sunday|2017-01-29 08:00:00|      2|\n",
            "|2017|February| 26|   8| Sunday|2017-02-26 08:00:00|      3|\n",
            "|2017|   March| 14|   6|Tuesday|2017-03-14 06:00:00|      4|\n",
            "+----+--------+---+----+-------+-------------------+-------+\n",
            "only showing top 5 rows"
          ]
        }
      ],
      "source": [
        "# creating the primary key column\n",
        "df_temp = date.rdd.zipWithIndex().toDF()\n",
        "DIM_DATE = df_temp.select(col(\"_1.*\"),col(\"_2\").alias('date_id'))\n",
        "DIM_DATE.show(5)"
      ]
    },
    {
      "cell_type": "code",
      "execution_count": null,
      "id": "d3ff62ac-0fa1-4c1f-b9d0-5d441e1023c8",
      "metadata": {
        "execution": {
          "iopub.execute_input": "2022-12-19T11:03:37.601168Z",
          "iopub.status.busy": "2022-12-19T11:03:37.600859Z",
          "iopub.status.idle": "2022-12-19T11:03:37.803140Z",
          "shell.execute_reply": "2022-12-19T11:03:37.802465Z",
          "shell.execute_reply.started": "2022-12-19T11:03:37.601140Z"
        },
        "id": "d3ff62ac-0fa1-4c1f-b9d0-5d441e1023c8",
        "outputId": "a66401b0-7400-4f68-9d66-ca30d7e73b59",
        "colab": {
          "referenced_widgets": [
            "b1f5bbdcb2534158bb97749404f573be",
            ""
          ]
        }
      },
      "outputs": [
        {
          "data": {
            "application/vnd.jupyter.widget-view+json": {
              "model_id": "b1f5bbdcb2534158bb97749404f573be",
              "version_major": 2,
              "version_minor": 0
            },
            "text/plain": [
              "VBox()"
            ]
          },
          "metadata": {},
          "output_type": "display_data"
        },
        {
          "data": {
            "application/vnd.jupyter.widget-view+json": {
              "model_id": "",
              "version_major": 2,
              "version_minor": 0
            },
            "text/plain": [
              "FloatProgress(value=0.0, bar_style='info', description='Progress:', layout=Layout(height='25px', width='50%'),…"
            ]
          },
          "metadata": {},
          "output_type": "display_data"
        }
      ],
      "source": [
        "# rearranging the columns according to the target model\n",
        "DIM_DATE = DIM_DATE.select('date_id', 'full_date_time', 'year', 'month', 'day', 'hour', 'weekday')"
      ]
    },
    {
      "cell_type": "code",
      "execution_count": null,
      "id": "8393ec14-2327-4c84-a538-3ed0e7a04c54",
      "metadata": {
        "execution": {
          "iopub.execute_input": "2022-12-19T11:03:40.507967Z",
          "iopub.status.busy": "2022-12-19T11:03:40.507646Z",
          "iopub.status.idle": "2022-12-19T11:03:40.710723Z",
          "shell.execute_reply": "2022-12-19T11:03:40.709722Z",
          "shell.execute_reply.started": "2022-12-19T11:03:40.507938Z"
        },
        "id": "8393ec14-2327-4c84-a538-3ed0e7a04c54",
        "outputId": "1b9e7a79-89ad-4573-eb9b-08af6e65371a",
        "colab": {
          "referenced_widgets": [
            "4adeee7c75b046349be676a2ad8c4649",
            ""
          ]
        }
      },
      "outputs": [
        {
          "data": {
            "application/vnd.jupyter.widget-view+json": {
              "model_id": "4adeee7c75b046349be676a2ad8c4649",
              "version_major": 2,
              "version_minor": 0
            },
            "text/plain": [
              "VBox()"
            ]
          },
          "metadata": {},
          "output_type": "display_data"
        },
        {
          "data": {
            "application/vnd.jupyter.widget-view+json": {
              "model_id": "",
              "version_major": 2,
              "version_minor": 0
            },
            "text/plain": [
              "FloatProgress(value=0.0, bar_style='info', description='Progress:', layout=Layout(height='25px', width='50%'),…"
            ]
          },
          "metadata": {},
          "output_type": "display_data"
        },
        {
          "name": "stdout",
          "output_type": "stream",
          "text": [
            "['date_id', 'full_date_time', 'year', 'month', 'day', 'hour', 'weekday']"
          ]
        }
      ],
      "source": [
        "# checking that all required columns are present and named correctly\n",
        "DIM_DATE.columns"
      ]
    },
    {
      "cell_type": "code",
      "execution_count": null,
      "id": "0ac7437c-b052-4c82-939f-94924c9d0f0e",
      "metadata": {
        "execution": {
          "iopub.execute_input": "2022-12-19T11:03:43.094849Z",
          "iopub.status.busy": "2022-12-19T11:03:43.094487Z",
          "iopub.status.idle": "2022-12-19T11:03:50.984404Z",
          "shell.execute_reply": "2022-12-19T11:03:50.983550Z",
          "shell.execute_reply.started": "2022-12-19T11:03:43.094816Z"
        },
        "tags": [],
        "id": "0ac7437c-b052-4c82-939f-94924c9d0f0e",
        "outputId": "ef3ef42e-d685-4f2a-a82c-bea9bc6d3dac",
        "colab": {
          "referenced_widgets": [
            "1a22467bf4ea48838fcd4e21d7045dda",
            ""
          ]
        }
      },
      "outputs": [
        {
          "data": {
            "application/vnd.jupyter.widget-view+json": {
              "model_id": "1a22467bf4ea48838fcd4e21d7045dda",
              "version_major": 2,
              "version_minor": 0
            },
            "text/plain": [
              "VBox()"
            ]
          },
          "metadata": {},
          "output_type": "display_data"
        },
        {
          "data": {
            "application/vnd.jupyter.widget-view+json": {
              "model_id": "",
              "version_major": 2,
              "version_minor": 0
            },
            "text/plain": [
              "FloatProgress(value=0.0, bar_style='info', description='Progress:', layout=Layout(height='25px', width='50%'),…"
            ]
          },
          "metadata": {},
          "output_type": "display_data"
        },
        {
          "name": "stdout",
          "output_type": "stream",
          "text": [
            "8685"
          ]
        }
      ],
      "source": [
        "# validating the count of the dataframe\n",
        "DIM_DATE.select('*').count()"
      ]
    },
    {
      "cell_type": "markdown",
      "id": "dc1d50f2-1ba2-4461-8c4e-a571eb5618bc",
      "metadata": {
        "id": "dc1d50f2-1ba2-4461-8c4e-a571eb5618bc"
      },
      "source": [
        "#### Creating a dataframe for Card Type Dimension according to Target Dimension Model"
      ]
    },
    {
      "cell_type": "code",
      "execution_count": null,
      "id": "c59dfb70-575a-4e9f-abc6-00ecb1fdf4fd",
      "metadata": {
        "execution": {
          "iopub.execute_input": "2022-12-19T11:04:21.030468Z",
          "iopub.status.busy": "2022-12-19T11:04:21.030147Z",
          "iopub.status.idle": "2022-12-19T11:04:21.219853Z",
          "shell.execute_reply": "2022-12-19T11:04:21.218544Z",
          "shell.execute_reply.started": "2022-12-19T11:04:21.030441Z"
        },
        "id": "c59dfb70-575a-4e9f-abc6-00ecb1fdf4fd",
        "outputId": "1359fa10-9380-405d-a6aa-12ba3880c873",
        "colab": {
          "referenced_widgets": [
            "97e1956815e049778eac8ddb1e50176f",
            ""
          ]
        }
      },
      "outputs": [
        {
          "data": {
            "application/vnd.jupyter.widget-view+json": {
              "model_id": "97e1956815e049778eac8ddb1e50176f",
              "version_major": 2,
              "version_minor": 0
            },
            "text/plain": [
              "VBox()"
            ]
          },
          "metadata": {},
          "output_type": "display_data"
        },
        {
          "data": {
            "application/vnd.jupyter.widget-view+json": {
              "model_id": "",
              "version_major": 2,
              "version_minor": 0
            },
            "text/plain": [
              "FloatProgress(value=0.0, bar_style='info', description='Progress:', layout=Layout(height='25px', width='50%'),…"
            ]
          },
          "metadata": {},
          "output_type": "display_data"
        }
      ],
      "source": [
        "# creating a temporary df and selecting required columns and making sure records are distinct\n",
        "card_type = df.select('card_type').distinct()"
      ]
    },
    {
      "cell_type": "code",
      "execution_count": null,
      "id": "d88f2839-5efc-47a7-a5d1-ad52c73bb698",
      "metadata": {
        "execution": {
          "iopub.execute_input": "2022-12-19T11:04:29.806251Z",
          "iopub.status.busy": "2022-12-19T11:04:29.805947Z",
          "iopub.status.idle": "2022-12-19T11:04:39.628363Z",
          "shell.execute_reply": "2022-12-19T11:04:39.627330Z",
          "shell.execute_reply.started": "2022-12-19T11:04:29.806224Z"
        },
        "tags": [],
        "id": "d88f2839-5efc-47a7-a5d1-ad52c73bb698",
        "outputId": "bbe84a97-ff3c-4ac9-8158-8aa01d4f5f47",
        "colab": {
          "referenced_widgets": [
            "2eaab15a598c422da696c3586aa99e4e",
            ""
          ]
        }
      },
      "outputs": [
        {
          "data": {
            "application/vnd.jupyter.widget-view+json": {
              "model_id": "2eaab15a598c422da696c3586aa99e4e",
              "version_major": 2,
              "version_minor": 0
            },
            "text/plain": [
              "VBox()"
            ]
          },
          "metadata": {},
          "output_type": "display_data"
        },
        {
          "data": {
            "application/vnd.jupyter.widget-view+json": {
              "model_id": "",
              "version_major": 2,
              "version_minor": 0
            },
            "text/plain": [
              "FloatProgress(value=0.0, bar_style='info', description='Progress:', layout=Layout(height='25px', width='50%'),…"
            ]
          },
          "metadata": {},
          "output_type": "display_data"
        },
        {
          "name": "stdout",
          "output_type": "stream",
          "text": [
            "+--------------------+------------+\n",
            "|           card_type|card_type_id|\n",
            "+--------------------+------------+\n",
            "|Visa Dankort - on-us|           0|\n",
            "|  Mastercard - on-us|           1|\n",
            "|         HÃƒÂ¦vekort|           2|\n",
            "|            VisaPlus|           3|\n",
            "|     Dankort - on-us|           4|\n",
            "+--------------------+------------+\n",
            "only showing top 5 rows"
          ]
        }
      ],
      "source": [
        "# creating the primary key column\n",
        "df_temp = card_type.rdd.zipWithIndex().toDF()\n",
        "DIM_CARD_TYPE = df_temp.select(col(\"_1.*\"),col(\"_2\").alias('card_type_id'))\n",
        "DIM_CARD_TYPE.show(5)"
      ]
    },
    {
      "cell_type": "code",
      "execution_count": null,
      "id": "80373c66-b3a6-4390-9cba-a8963e7f9b7b",
      "metadata": {
        "execution": {
          "iopub.execute_input": "2022-12-19T11:04:44.478007Z",
          "iopub.status.busy": "2022-12-19T11:04:44.477535Z",
          "iopub.status.idle": "2022-12-19T11:04:45.193740Z",
          "shell.execute_reply": "2022-12-19T11:04:45.192528Z",
          "shell.execute_reply.started": "2022-12-19T11:04:44.477951Z"
        },
        "id": "80373c66-b3a6-4390-9cba-a8963e7f9b7b",
        "outputId": "49bb3e05-04af-4c77-fa96-b20a392d5cbc",
        "colab": {
          "referenced_widgets": [
            "83ff9e325cf34c7ebd6a176892cf52dc",
            ""
          ]
        }
      },
      "outputs": [
        {
          "data": {
            "application/vnd.jupyter.widget-view+json": {
              "model_id": "83ff9e325cf34c7ebd6a176892cf52dc",
              "version_major": 2,
              "version_minor": 0
            },
            "text/plain": [
              "VBox()"
            ]
          },
          "metadata": {},
          "output_type": "display_data"
        },
        {
          "data": {
            "application/vnd.jupyter.widget-view+json": {
              "model_id": "",
              "version_major": 2,
              "version_minor": 0
            },
            "text/plain": [
              "FloatProgress(value=0.0, bar_style='info', description='Progress:', layout=Layout(height='25px', width='50%'),…"
            ]
          },
          "metadata": {},
          "output_type": "display_data"
        }
      ],
      "source": [
        "# rearranging the columns according to the target model\n",
        "DIM_CARD_TYPE = DIM_CARD_TYPE.select('card_type_id', 'card_type')"
      ]
    },
    {
      "cell_type": "code",
      "execution_count": null,
      "id": "c4c0db11-70f6-4de0-bdb0-087d82012596",
      "metadata": {
        "execution": {
          "iopub.execute_input": "2022-12-19T11:04:56.451277Z",
          "iopub.status.busy": "2022-12-19T11:04:56.450974Z",
          "iopub.status.idle": "2022-12-19T11:04:56.630119Z",
          "shell.execute_reply": "2022-12-19T11:04:56.628797Z",
          "shell.execute_reply.started": "2022-12-19T11:04:56.451249Z"
        },
        "id": "c4c0db11-70f6-4de0-bdb0-087d82012596",
        "outputId": "208a5725-beb6-4f20-9a5c-90969d94e6a7",
        "colab": {
          "referenced_widgets": [
            "a53b52d1ad2c4c1596f2761a301dee43",
            ""
          ]
        }
      },
      "outputs": [
        {
          "data": {
            "application/vnd.jupyter.widget-view+json": {
              "model_id": "a53b52d1ad2c4c1596f2761a301dee43",
              "version_major": 2,
              "version_minor": 0
            },
            "text/plain": [
              "VBox()"
            ]
          },
          "metadata": {},
          "output_type": "display_data"
        },
        {
          "data": {
            "application/vnd.jupyter.widget-view+json": {
              "model_id": "",
              "version_major": 2,
              "version_minor": 0
            },
            "text/plain": [
              "FloatProgress(value=0.0, bar_style='info', description='Progress:', layout=Layout(height='25px', width='50%'),…"
            ]
          },
          "metadata": {},
          "output_type": "display_data"
        },
        {
          "name": "stdout",
          "output_type": "stream",
          "text": [
            "['card_type_id', 'card_type']"
          ]
        }
      ],
      "source": [
        "# checking that all required columns are present and named correctly\n",
        "DIM_CARD_TYPE.columns"
      ]
    },
    {
      "cell_type": "code",
      "execution_count": null,
      "id": "fb73ddb9-a8a0-41af-9209-cf8924ed6d88",
      "metadata": {
        "execution": {
          "iopub.execute_input": "2022-12-19T11:05:06.894662Z",
          "iopub.status.busy": "2022-12-19T11:05:06.894355Z",
          "iopub.status.idle": "2022-12-19T11:05:07.879945Z",
          "shell.execute_reply": "2022-12-19T11:05:07.873270Z",
          "shell.execute_reply.started": "2022-12-19T11:05:06.894636Z"
        },
        "id": "fb73ddb9-a8a0-41af-9209-cf8924ed6d88",
        "outputId": "a0a9ae64-9080-4ac8-b509-232452b82933",
        "colab": {
          "referenced_widgets": [
            "b114c4a22d074503a9479678f511b0a2",
            ""
          ]
        }
      },
      "outputs": [
        {
          "data": {
            "application/vnd.jupyter.widget-view+json": {
              "model_id": "b114c4a22d074503a9479678f511b0a2",
              "version_major": 2,
              "version_minor": 0
            },
            "text/plain": [
              "VBox()"
            ]
          },
          "metadata": {},
          "output_type": "display_data"
        },
        {
          "data": {
            "application/vnd.jupyter.widget-view+json": {
              "model_id": "",
              "version_major": 2,
              "version_minor": 0
            },
            "text/plain": [
              "FloatProgress(value=0.0, bar_style='info', description='Progress:', layout=Layout(height='25px', width='50%'),…"
            ]
          },
          "metadata": {},
          "output_type": "display_data"
        },
        {
          "name": "stdout",
          "output_type": "stream",
          "text": [
            "12"
          ]
        }
      ],
      "source": [
        "# validating the count of the dataframe\n",
        "DIM_CARD_TYPE.select('*').count()"
      ]
    },
    {
      "cell_type": "markdown",
      "id": "ab9b5631-d510-4f98-b3df-ecf39cd9ba01",
      "metadata": {
        "id": "ab9b5631-d510-4f98-b3df-ecf39cd9ba01"
      },
      "source": [
        "#### Creating the Transaction Fact Table according to Target Model"
      ]
    },
    {
      "cell_type": "code",
      "execution_count": null,
      "id": "4bbe2ef2-c199-4d9e-977e-0f7d7463dd9c",
      "metadata": {
        "execution": {
          "iopub.execute_input": "2022-12-19T11:05:27.172940Z",
          "iopub.status.busy": "2022-12-19T11:05:27.172581Z",
          "iopub.status.idle": "2022-12-19T11:05:27.399697Z",
          "shell.execute_reply": "2022-12-19T11:05:27.398936Z",
          "shell.execute_reply.started": "2022-12-19T11:05:27.172907Z"
        },
        "id": "4bbe2ef2-c199-4d9e-977e-0f7d7463dd9c",
        "outputId": "5aa2732b-0538-45e3-8944-9af688097be2",
        "colab": {
          "referenced_widgets": [
            "15dfa53a5c964d4da1b43156fec6d6df",
            ""
          ]
        }
      },
      "outputs": [
        {
          "data": {
            "application/vnd.jupyter.widget-view+json": {
              "model_id": "15dfa53a5c964d4da1b43156fec6d6df",
              "version_major": 2,
              "version_minor": 0
            },
            "text/plain": [
              "VBox()"
            ]
          },
          "metadata": {},
          "output_type": "display_data"
        },
        {
          "data": {
            "application/vnd.jupyter.widget-view+json": {
              "model_id": "",
              "version_major": 2,
              "version_minor": 0
            },
            "text/plain": [
              "FloatProgress(value=0.0, bar_style='info', description='Progress:', layout=Layout(height='25px', width='50%'),…"
            ]
          },
          "metadata": {},
          "output_type": "display_data"
        }
      ],
      "source": [
        "# Stage 1 of FACT_ATM_TRANS Table -> joining original dataframe with DIM_LOC"
      ]
    },
    {
      "cell_type": "code",
      "execution_count": null,
      "id": "aa0242e9-fa1a-4ec8-a0a4-22adb227f17a",
      "metadata": {
        "execution": {
          "iopub.execute_input": "2022-12-19T11:05:38.601627Z",
          "iopub.status.busy": "2022-12-19T11:05:38.600985Z",
          "iopub.status.idle": "2022-12-19T11:05:38.801612Z",
          "shell.execute_reply": "2022-12-19T11:05:38.800872Z",
          "shell.execute_reply.started": "2022-12-19T11:05:38.601580Z"
        },
        "id": "aa0242e9-fa1a-4ec8-a0a4-22adb227f17a",
        "outputId": "e863c413-d7a6-425b-c2dd-17b2fd47248d",
        "colab": {
          "referenced_widgets": [
            "f94a02d8887440ecb62ab52776d1c0a1",
            ""
          ]
        }
      },
      "outputs": [
        {
          "data": {
            "application/vnd.jupyter.widget-view+json": {
              "model_id": "f94a02d8887440ecb62ab52776d1c0a1",
              "version_major": 2,
              "version_minor": 0
            },
            "text/plain": [
              "VBox()"
            ]
          },
          "metadata": {},
          "output_type": "display_data"
        },
        {
          "data": {
            "application/vnd.jupyter.widget-view+json": {
              "model_id": "",
              "version_major": 2,
              "version_minor": 0
            },
            "text/plain": [
              "FloatProgress(value=0.0, bar_style='info', description='Progress:', layout=Layout(height='25px', width='50%'),…"
            ]
          },
          "metadata": {},
          "output_type": "display_data"
        }
      ],
      "source": [
        "# renaming the colums as per requirement\n",
        "fact_loc = df.withColumnRenamed('atm_location','location').withColumnRenamed('atm_streetname','streetname').withColumnRenamed('atm_street_number','street_number').withColumnRenamed('atm_zipcode','zipcode').withColumnRenamed('atm_lat','lat').withColumnRenamed('atm_lon','lon')"
      ]
    },
    {
      "cell_type": "code",
      "execution_count": null,
      "id": "0f7773ff-3a55-4f03-b11f-f67f0c469b43",
      "metadata": {
        "execution": {
          "iopub.execute_input": "2022-12-19T11:05:50.014435Z",
          "iopub.status.busy": "2022-12-19T11:05:50.012272Z",
          "iopub.status.idle": "2022-12-19T11:05:50.292122Z",
          "shell.execute_reply": "2022-12-19T11:05:50.291357Z",
          "shell.execute_reply.started": "2022-12-19T11:05:50.014391Z"
        },
        "id": "0f7773ff-3a55-4f03-b11f-f67f0c469b43",
        "outputId": "74336793-7e90-4ca0-a5ce-465bc3fb00f0",
        "colab": {
          "referenced_widgets": [
            "85caea27d5ee4f4fbbf729de258fd167",
            ""
          ]
        }
      },
      "outputs": [
        {
          "data": {
            "application/vnd.jupyter.widget-view+json": {
              "model_id": "85caea27d5ee4f4fbbf729de258fd167",
              "version_major": 2,
              "version_minor": 0
            },
            "text/plain": [
              "VBox()"
            ]
          },
          "metadata": {},
          "output_type": "display_data"
        },
        {
          "data": {
            "application/vnd.jupyter.widget-view+json": {
              "model_id": "",
              "version_major": 2,
              "version_minor": 0
            },
            "text/plain": [
              "FloatProgress(value=0.0, bar_style='info', description='Progress:', layout=Layout(height='25px', width='50%'),…"
            ]
          },
          "metadata": {},
          "output_type": "display_data"
        }
      ],
      "source": [
        "# joining the dfs\n",
        "fact_loc = fact_loc.join(DIM_LOCATION, on = ['location', 'streetname', 'street_number', 'zipcode', 'lat', 'lon'], how = \"left\")"
      ]
    },
    {
      "cell_type": "code",
      "execution_count": null,
      "id": "ada0b677-2234-483c-bed7-868f6b9d8e5f",
      "metadata": {
        "execution": {
          "iopub.execute_input": "2022-12-19T11:05:58.411883Z",
          "iopub.status.busy": "2022-12-19T11:05:58.411564Z",
          "iopub.status.idle": "2022-12-19T11:05:58.605514Z",
          "shell.execute_reply": "2022-12-19T11:05:58.604527Z",
          "shell.execute_reply.started": "2022-12-19T11:05:58.411854Z"
        },
        "id": "ada0b677-2234-483c-bed7-868f6b9d8e5f",
        "outputId": "6f416c43-a921-4a77-c7c5-a914e479b447",
        "colab": {
          "referenced_widgets": [
            "37f97c65918847d4a92815cc9b249e4b",
            ""
          ]
        }
      },
      "outputs": [
        {
          "data": {
            "application/vnd.jupyter.widget-view+json": {
              "model_id": "37f97c65918847d4a92815cc9b249e4b",
              "version_major": 2,
              "version_minor": 0
            },
            "text/plain": [
              "VBox()"
            ]
          },
          "metadata": {},
          "output_type": "display_data"
        },
        {
          "data": {
            "application/vnd.jupyter.widget-view+json": {
              "model_id": "",
              "version_major": 2,
              "version_minor": 0
            },
            "text/plain": [
              "FloatProgress(value=0.0, bar_style='info', description='Progress:', layout=Layout(height='25px', width='50%'),…"
            ]
          },
          "metadata": {},
          "output_type": "display_data"
        },
        {
          "name": "stdout",
          "output_type": "stream",
          "text": [
            "['location', 'streetname', 'street_number', 'zipcode', 'lat', 'lon', 'year', 'month', 'day', 'weekday', 'hour', 'atm_status', 'atm_id', 'atm_manufacturer', 'currency', 'card_type', 'transaction_amount', 'service', 'message_code', 'message_text', 'weather_lat', 'weather_lon', 'weather_city_id', 'weather_city_name', 'temp', 'pressure', 'humidity', 'wind_speed', 'wind_deg', 'rain_3h', 'clouds_all', 'weather_id', 'weather_main', 'weather_description', 'location_id']"
          ]
        }
      ],
      "source": [
        "# viewing the columns\n",
        "fact_loc.columns"
      ]
    },
    {
      "cell_type": "code",
      "execution_count": null,
      "id": "f6904b14-e403-4fd2-bafb-65e126ba03a9",
      "metadata": {
        "execution": {
          "iopub.execute_input": "2022-12-19T11:06:08.610331Z",
          "iopub.status.busy": "2022-12-19T11:06:08.609995Z",
          "iopub.status.idle": "2022-12-19T11:06:42.773429Z",
          "shell.execute_reply": "2022-12-19T11:06:42.772414Z",
          "shell.execute_reply.started": "2022-12-19T11:06:08.610300Z"
        },
        "id": "f6904b14-e403-4fd2-bafb-65e126ba03a9",
        "outputId": "b740adc5-ccf0-4958-802c-c48cfd570f31",
        "colab": {
          "referenced_widgets": [
            "e61b68e231b5454eaf5141718e065152",
            ""
          ]
        }
      },
      "outputs": [
        {
          "data": {
            "application/vnd.jupyter.widget-view+json": {
              "model_id": "e61b68e231b5454eaf5141718e065152",
              "version_major": 2,
              "version_minor": 0
            },
            "text/plain": [
              "VBox()"
            ]
          },
          "metadata": {},
          "output_type": "display_data"
        },
        {
          "data": {
            "application/vnd.jupyter.widget-view+json": {
              "model_id": "",
              "version_major": 2,
              "version_minor": 0
            },
            "text/plain": [
              "FloatProgress(value=0.0, bar_style='info', description='Progress:', layout=Layout(height='25px', width='50%'),…"
            ]
          },
          "metadata": {},
          "output_type": "display_data"
        },
        {
          "name": "stdout",
          "output_type": "stream",
          "text": [
            "2468572"
          ]
        }
      ],
      "source": [
        "# Validating the count of the df at the end of Stage 1\n",
        "fact_loc.select('*').count()"
      ]
    },
    {
      "cell_type": "code",
      "execution_count": null,
      "id": "56b63bb3-f192-4501-a85c-98fe8e10dded",
      "metadata": {
        "execution": {
          "iopub.execute_input": "2022-12-19T11:07:11.943356Z",
          "iopub.status.busy": "2022-12-19T11:07:11.943001Z",
          "iopub.status.idle": "2022-12-19T11:07:12.129549Z",
          "shell.execute_reply": "2022-12-19T11:07:12.128725Z",
          "shell.execute_reply.started": "2022-12-19T11:07:11.943325Z"
        },
        "id": "56b63bb3-f192-4501-a85c-98fe8e10dded",
        "outputId": "d4551fe5-c3ca-49f2-e164-6b29e4984dc1",
        "colab": {
          "referenced_widgets": [
            "efd64e57b7e24f23bd286e156ddb4644",
            ""
          ]
        }
      },
      "outputs": [
        {
          "data": {
            "application/vnd.jupyter.widget-view+json": {
              "model_id": "efd64e57b7e24f23bd286e156ddb4644",
              "version_major": 2,
              "version_minor": 0
            },
            "text/plain": [
              "VBox()"
            ]
          },
          "metadata": {},
          "output_type": "display_data"
        },
        {
          "data": {
            "application/vnd.jupyter.widget-view+json": {
              "model_id": "",
              "version_major": 2,
              "version_minor": 0
            },
            "text/plain": [
              "FloatProgress(value=0.0, bar_style='info', description='Progress:', layout=Layout(height='25px', width='50%'),…"
            ]
          },
          "metadata": {},
          "output_type": "display_data"
        }
      ],
      "source": [
        "# Stage 2 of FACT_ATM_TRANS Table -> joining the dataframe with DIM_ATM"
      ]
    },
    {
      "cell_type": "code",
      "execution_count": null,
      "id": "9650fa8f-8f4d-4d10-a2a2-57eae80fd7c6",
      "metadata": {
        "execution": {
          "iopub.execute_input": "2022-12-19T11:07:13.155058Z",
          "iopub.status.busy": "2022-12-19T11:07:13.154008Z",
          "iopub.status.idle": "2022-12-19T11:07:13.314913Z",
          "shell.execute_reply": "2022-12-19T11:07:13.314086Z",
          "shell.execute_reply.started": "2022-12-19T11:07:13.155009Z"
        },
        "id": "9650fa8f-8f4d-4d10-a2a2-57eae80fd7c6",
        "outputId": "8b26f1f6-75b1-4e87-862d-f50c423e4f58",
        "colab": {
          "referenced_widgets": [
            "4b5ff9b7827b4cbab437d6cf93c5defb",
            ""
          ]
        }
      },
      "outputs": [
        {
          "data": {
            "application/vnd.jupyter.widget-view+json": {
              "model_id": "4b5ff9b7827b4cbab437d6cf93c5defb",
              "version_major": 2,
              "version_minor": 0
            },
            "text/plain": [
              "VBox()"
            ]
          },
          "metadata": {},
          "output_type": "display_data"
        },
        {
          "data": {
            "application/vnd.jupyter.widget-view+json": {
              "model_id": "",
              "version_major": 2,
              "version_minor": 0
            },
            "text/plain": [
              "FloatProgress(value=0.0, bar_style='info', description='Progress:', layout=Layout(height='25px', width='50%'),…"
            ]
          },
          "metadata": {},
          "output_type": "display_data"
        }
      ],
      "source": [
        "# renaming the colums as per requirement\n",
        "fact_loc = fact_loc.withColumnRenamed('atm_id', 'atm_number').withColumnRenamed('location_id', 'atm_location_id')"
      ]
    },
    {
      "cell_type": "code",
      "execution_count": null,
      "id": "32695d28-4d5f-4ce9-9f5d-a1f8f2d20bed",
      "metadata": {
        "execution": {
          "iopub.execute_input": "2022-12-19T11:07:14.735163Z",
          "iopub.status.busy": "2022-12-19T11:07:14.734547Z",
          "iopub.status.idle": "2022-12-19T11:07:14.920125Z",
          "shell.execute_reply": "2022-12-19T11:07:14.918971Z",
          "shell.execute_reply.started": "2022-12-19T11:07:14.735129Z"
        },
        "id": "32695d28-4d5f-4ce9-9f5d-a1f8f2d20bed",
        "outputId": "00ae1618-3b55-4685-c137-e4dbdfc29996",
        "colab": {
          "referenced_widgets": [
            "9f3d524c0579482999797f12f8304d52",
            ""
          ]
        }
      },
      "outputs": [
        {
          "data": {
            "application/vnd.jupyter.widget-view+json": {
              "model_id": "9f3d524c0579482999797f12f8304d52",
              "version_major": 2,
              "version_minor": 0
            },
            "text/plain": [
              "VBox()"
            ]
          },
          "metadata": {},
          "output_type": "display_data"
        },
        {
          "data": {
            "application/vnd.jupyter.widget-view+json": {
              "model_id": "",
              "version_major": 2,
              "version_minor": 0
            },
            "text/plain": [
              "FloatProgress(value=0.0, bar_style='info', description='Progress:', layout=Layout(height='25px', width='50%'),…"
            ]
          },
          "metadata": {},
          "output_type": "display_data"
        }
      ],
      "source": [
        "# joining the dfs\n",
        "fact_atm = fact_loc.join(DIM_ATM, on = ['atm_number', 'atm_manufacturer', 'atm_location_id'], how = \"left\")"
      ]
    },
    {
      "cell_type": "code",
      "execution_count": null,
      "id": "3f0d68c9-61a0-4dd6-a742-f0c543565b34",
      "metadata": {
        "execution": {
          "iopub.execute_input": "2022-12-19T11:07:17.162230Z",
          "iopub.status.busy": "2022-12-19T11:07:17.161927Z",
          "iopub.status.idle": "2022-12-19T11:07:17.339814Z",
          "shell.execute_reply": "2022-12-19T11:07:17.339157Z",
          "shell.execute_reply.started": "2022-12-19T11:07:17.162203Z"
        },
        "id": "3f0d68c9-61a0-4dd6-a742-f0c543565b34",
        "outputId": "449f904e-ac1f-481d-dd1f-473ed67f9641",
        "colab": {
          "referenced_widgets": [
            "78406a79a6dc48e9a137274d9022634d",
            ""
          ]
        }
      },
      "outputs": [
        {
          "data": {
            "application/vnd.jupyter.widget-view+json": {
              "model_id": "78406a79a6dc48e9a137274d9022634d",
              "version_major": 2,
              "version_minor": 0
            },
            "text/plain": [
              "VBox()"
            ]
          },
          "metadata": {},
          "output_type": "display_data"
        },
        {
          "data": {
            "application/vnd.jupyter.widget-view+json": {
              "model_id": "",
              "version_major": 2,
              "version_minor": 0
            },
            "text/plain": [
              "FloatProgress(value=0.0, bar_style='info', description='Progress:', layout=Layout(height='25px', width='50%'),…"
            ]
          },
          "metadata": {},
          "output_type": "display_data"
        }
      ],
      "source": [
        "# performing necessary transformations, same as done to atm table\n",
        "fact_atm = fact_atm.withColumnRenamed('atm_location_id', 'weather_loc_id')"
      ]
    },
    {
      "cell_type": "code",
      "execution_count": null,
      "id": "d94ce7c9-7788-4159-bb10-646383771950",
      "metadata": {
        "execution": {
          "iopub.execute_input": "2022-12-19T11:07:18.540562Z",
          "iopub.status.busy": "2022-12-19T11:07:18.540010Z",
          "iopub.status.idle": "2022-12-19T11:07:34.709992Z",
          "shell.execute_reply": "2022-12-19T11:07:34.708430Z",
          "shell.execute_reply.started": "2022-12-19T11:07:18.540526Z"
        },
        "id": "d94ce7c9-7788-4159-bb10-646383771950",
        "outputId": "081de73b-406a-4995-8832-6106371ff601",
        "colab": {
          "referenced_widgets": [
            "203cd6264fb84d94838741b8a2279f9b",
            ""
          ]
        }
      },
      "outputs": [
        {
          "data": {
            "application/vnd.jupyter.widget-view+json": {
              "model_id": "203cd6264fb84d94838741b8a2279f9b",
              "version_major": 2,
              "version_minor": 0
            },
            "text/plain": [
              "VBox()"
            ]
          },
          "metadata": {},
          "output_type": "display_data"
        },
        {
          "data": {
            "application/vnd.jupyter.widget-view+json": {
              "model_id": "",
              "version_major": 2,
              "version_minor": 0
            },
            "text/plain": [
              "FloatProgress(value=0.0, bar_style='info', description='Progress:', layout=Layout(height='25px', width='50%'),…"
            ]
          },
          "metadata": {},
          "output_type": "display_data"
        },
        {
          "name": "stdout",
          "output_type": "stream",
          "text": [
            "2468572"
          ]
        }
      ],
      "source": [
        "# Validating the count of the df at the end of Stage 2\n",
        "fact_atm.select('*').count()"
      ]
    },
    {
      "cell_type": "code",
      "execution_count": null,
      "id": "1ed88186-82d3-49aa-b381-69532087b345",
      "metadata": {
        "execution": {
          "iopub.execute_input": "2022-12-19T11:07:53.894820Z",
          "iopub.status.busy": "2022-12-19T11:07:53.894191Z",
          "iopub.status.idle": "2022-12-19T11:07:54.123192Z",
          "shell.execute_reply": "2022-12-19T11:07:54.122053Z",
          "shell.execute_reply.started": "2022-12-19T11:07:53.894778Z"
        },
        "id": "1ed88186-82d3-49aa-b381-69532087b345",
        "outputId": "0f51ad4c-5beb-4b4f-889c-3902b034ec37",
        "colab": {
          "referenced_widgets": [
            "269cd25c011c424c8ac21b5a7f2f9dce",
            ""
          ]
        }
      },
      "outputs": [
        {
          "data": {
            "application/vnd.jupyter.widget-view+json": {
              "model_id": "269cd25c011c424c8ac21b5a7f2f9dce",
              "version_major": 2,
              "version_minor": 0
            },
            "text/plain": [
              "VBox()"
            ]
          },
          "metadata": {},
          "output_type": "display_data"
        },
        {
          "data": {
            "application/vnd.jupyter.widget-view+json": {
              "model_id": "",
              "version_major": 2,
              "version_minor": 0
            },
            "text/plain": [
              "FloatProgress(value=0.0, bar_style='info', description='Progress:', layout=Layout(height='25px', width='50%'),…"
            ]
          },
          "metadata": {},
          "output_type": "display_data"
        }
      ],
      "source": [
        "# Stage 3 of FACT_ATM_TRANS Table -> joining the dataframe with DIM_DATE"
      ]
    },
    {
      "cell_type": "code",
      "execution_count": null,
      "id": "97dc8de0-dc24-4478-851e-ba6938e6008b",
      "metadata": {
        "execution": {
          "iopub.execute_input": "2022-12-19T11:08:06.708323Z",
          "iopub.status.busy": "2022-12-19T11:08:06.707993Z",
          "iopub.status.idle": "2022-12-19T11:08:06.888709Z",
          "shell.execute_reply": "2022-12-19T11:08:06.887849Z",
          "shell.execute_reply.started": "2022-12-19T11:08:06.708292Z"
        },
        "id": "97dc8de0-dc24-4478-851e-ba6938e6008b",
        "outputId": "e1d467e9-d332-4dba-c587-59f0cd9dedf7",
        "colab": {
          "referenced_widgets": [
            "8ee779831eee4eaba358128b22a70725",
            ""
          ]
        }
      },
      "outputs": [
        {
          "data": {
            "application/vnd.jupyter.widget-view+json": {
              "model_id": "8ee779831eee4eaba358128b22a70725",
              "version_major": 2,
              "version_minor": 0
            },
            "text/plain": [
              "VBox()"
            ]
          },
          "metadata": {},
          "output_type": "display_data"
        },
        {
          "data": {
            "application/vnd.jupyter.widget-view+json": {
              "model_id": "",
              "version_major": 2,
              "version_minor": 0
            },
            "text/plain": [
              "FloatProgress(value=0.0, bar_style='info', description='Progress:', layout=Layout(height='25px', width='50%'),…"
            ]
          },
          "metadata": {},
          "output_type": "display_data"
        }
      ],
      "source": [
        "# joining the dfs\n",
        "fact_date = fact_atm.join(DIM_DATE, on = ['year', 'month', 'day', 'hour', 'weekday'], how = \"left\")"
      ]
    },
    {
      "cell_type": "code",
      "execution_count": null,
      "id": "7c0d7660-14bd-4b31-b15d-47270959cc89",
      "metadata": {
        "execution": {
          "iopub.execute_input": "2022-12-19T11:08:15.823897Z",
          "iopub.status.busy": "2022-12-19T11:08:15.823248Z",
          "iopub.status.idle": "2022-12-19T11:08:34.059660Z",
          "shell.execute_reply": "2022-12-19T11:08:34.058817Z",
          "shell.execute_reply.started": "2022-12-19T11:08:15.823849Z"
        },
        "tags": [],
        "id": "7c0d7660-14bd-4b31-b15d-47270959cc89",
        "outputId": "00c8f1dc-3581-468b-a736-7b2d6f7adf3f",
        "colab": {
          "referenced_widgets": [
            "b0d3cc804edb471dbaccfed274af3db4",
            ""
          ]
        }
      },
      "outputs": [
        {
          "data": {
            "application/vnd.jupyter.widget-view+json": {
              "model_id": "b0d3cc804edb471dbaccfed274af3db4",
              "version_major": 2,
              "version_minor": 0
            },
            "text/plain": [
              "VBox()"
            ]
          },
          "metadata": {},
          "output_type": "display_data"
        },
        {
          "data": {
            "application/vnd.jupyter.widget-view+json": {
              "model_id": "",
              "version_major": 2,
              "version_minor": 0
            },
            "text/plain": [
              "FloatProgress(value=0.0, bar_style='info', description='Progress:', layout=Layout(height='25px', width='50%'),…"
            ]
          },
          "metadata": {},
          "output_type": "display_data"
        },
        {
          "name": "stdout",
          "output_type": "stream",
          "text": [
            "2468572"
          ]
        }
      ],
      "source": [
        "# Validating the count of the df at the end of Stage 3\n",
        "fact_date.select('*').count()"
      ]
    },
    {
      "cell_type": "code",
      "execution_count": null,
      "id": "b512d6bc-4433-4a25-b6c8-3c9ab1817a09",
      "metadata": {
        "execution": {
          "iopub.execute_input": "2022-12-19T11:08:52.466172Z",
          "iopub.status.busy": "2022-12-19T11:08:52.465843Z",
          "iopub.status.idle": "2022-12-19T11:08:52.678934Z",
          "shell.execute_reply": "2022-12-19T11:08:52.677518Z",
          "shell.execute_reply.started": "2022-12-19T11:08:52.466142Z"
        },
        "id": "b512d6bc-4433-4a25-b6c8-3c9ab1817a09",
        "outputId": "0f12080e-e9c9-4249-806d-55193c5d0bce",
        "colab": {
          "referenced_widgets": [
            "325d6361b5614fc0b9273a1f0fbf804a",
            ""
          ]
        }
      },
      "outputs": [
        {
          "data": {
            "application/vnd.jupyter.widget-view+json": {
              "model_id": "325d6361b5614fc0b9273a1f0fbf804a",
              "version_major": 2,
              "version_minor": 0
            },
            "text/plain": [
              "VBox()"
            ]
          },
          "metadata": {},
          "output_type": "display_data"
        },
        {
          "data": {
            "application/vnd.jupyter.widget-view+json": {
              "model_id": "",
              "version_major": 2,
              "version_minor": 0
            },
            "text/plain": [
              "FloatProgress(value=0.0, bar_style='info', description='Progress:', layout=Layout(height='25px', width='50%'),…"
            ]
          },
          "metadata": {},
          "output_type": "display_data"
        }
      ],
      "source": [
        "# Stage 4 of FACT_ATM_TRANS Table -> joining the dataframe with DIM_CARD_TYPE"
      ]
    },
    {
      "cell_type": "code",
      "execution_count": null,
      "id": "8a404b86-8b9b-4e29-981a-8b852066a024",
      "metadata": {
        "execution": {
          "iopub.execute_input": "2022-12-19T11:09:02.798671Z",
          "iopub.status.busy": "2022-12-19T11:09:02.798303Z",
          "iopub.status.idle": "2022-12-19T11:09:03.073392Z",
          "shell.execute_reply": "2022-12-19T11:09:03.072411Z",
          "shell.execute_reply.started": "2022-12-19T11:09:02.798644Z"
        },
        "id": "8a404b86-8b9b-4e29-981a-8b852066a024",
        "outputId": "a4e86c1c-16e9-4c7d-c8e2-a72bbbef7734",
        "colab": {
          "referenced_widgets": [
            "91bff2502b0a42ecb912c54f6de6ddad",
            ""
          ]
        }
      },
      "outputs": [
        {
          "data": {
            "application/vnd.jupyter.widget-view+json": {
              "model_id": "91bff2502b0a42ecb912c54f6de6ddad",
              "version_major": 2,
              "version_minor": 0
            },
            "text/plain": [
              "VBox()"
            ]
          },
          "metadata": {},
          "output_type": "display_data"
        },
        {
          "data": {
            "application/vnd.jupyter.widget-view+json": {
              "model_id": "",
              "version_major": 2,
              "version_minor": 0
            },
            "text/plain": [
              "FloatProgress(value=0.0, bar_style='info', description='Progress:', layout=Layout(height='25px', width='50%'),…"
            ]
          },
          "metadata": {},
          "output_type": "display_data"
        }
      ],
      "source": [
        "# joining the dfs\n",
        "fact_atm_trans = fact_date.join(DIM_CARD_TYPE, on = ['card_type'], how = \"left\")"
      ]
    },
    {
      "cell_type": "code",
      "execution_count": null,
      "id": "f7d59d70-4989-4e3d-ad46-e83bd500f7c2",
      "metadata": {
        "execution": {
          "iopub.execute_input": "2022-12-19T11:09:12.681958Z",
          "iopub.status.busy": "2022-12-19T11:09:12.681632Z",
          "iopub.status.idle": "2022-12-19T11:09:31.477819Z",
          "shell.execute_reply": "2022-12-19T11:09:31.476654Z",
          "shell.execute_reply.started": "2022-12-19T11:09:12.681928Z"
        },
        "id": "f7d59d70-4989-4e3d-ad46-e83bd500f7c2",
        "outputId": "59185092-b232-49b8-a7aa-8b6282635858",
        "colab": {
          "referenced_widgets": [
            "8a1e7a9251914121bb1e7ed6e2767de7",
            ""
          ]
        }
      },
      "outputs": [
        {
          "data": {
            "application/vnd.jupyter.widget-view+json": {
              "model_id": "8a1e7a9251914121bb1e7ed6e2767de7",
              "version_major": 2,
              "version_minor": 0
            },
            "text/plain": [
              "VBox()"
            ]
          },
          "metadata": {},
          "output_type": "display_data"
        },
        {
          "data": {
            "application/vnd.jupyter.widget-view+json": {
              "model_id": "",
              "version_major": 2,
              "version_minor": 0
            },
            "text/plain": [
              "FloatProgress(value=0.0, bar_style='info', description='Progress:', layout=Layout(height='25px', width='50%'),…"
            ]
          },
          "metadata": {},
          "output_type": "display_data"
        },
        {
          "name": "stdout",
          "output_type": "stream",
          "text": [
            "2468572"
          ]
        }
      ],
      "source": [
        "# Validating the count of the df at the end of Stage 4\n",
        "fact_atm_trans.select('*').count()"
      ]
    },
    {
      "cell_type": "code",
      "execution_count": null,
      "id": "0b4a0836-99ad-46c6-981d-9737abec27f7",
      "metadata": {
        "execution": {
          "iopub.execute_input": "2022-12-19T11:09:51.948054Z",
          "iopub.status.busy": "2022-12-19T11:09:51.947718Z",
          "iopub.status.idle": "2022-12-19T11:10:30.728622Z",
          "shell.execute_reply": "2022-12-19T11:10:30.727754Z",
          "shell.execute_reply.started": "2022-12-19T11:09:51.948021Z"
        },
        "tags": [],
        "id": "0b4a0836-99ad-46c6-981d-9737abec27f7",
        "outputId": "128aa6fe-ba4b-4470-9793-cb5d5749c33c",
        "colab": {
          "referenced_widgets": [
            "23f0a8b90a074dd5bb29411fdce3a485",
            ""
          ]
        }
      },
      "outputs": [
        {
          "data": {
            "application/vnd.jupyter.widget-view+json": {
              "model_id": "23f0a8b90a074dd5bb29411fdce3a485",
              "version_major": 2,
              "version_minor": 0
            },
            "text/plain": [
              "VBox()"
            ]
          },
          "metadata": {},
          "output_type": "display_data"
        },
        {
          "data": {
            "application/vnd.jupyter.widget-view+json": {
              "model_id": "",
              "version_major": 2,
              "version_minor": 0
            },
            "text/plain": [
              "FloatProgress(value=0.0, bar_style='info', description='Progress:', layout=Layout(height='25px', width='50%'),…"
            ]
          },
          "metadata": {},
          "output_type": "display_data"
        },
        {
          "name": "stdout",
          "output_type": "stream",
          "text": [
            "+--------------------+----+-------+---+----+-------+----------+----------------+--------------+-------------------+------------+-------------+-------+------+-----+----------+--------+------------------+----------+------------+------------+-----------+-----------+---------------+-----------------+-------+--------+--------+----------+--------+-------+----------+----------+------------+-------------------+------+-------+-------------------+------------+--------+\n",
            "|           card_type|year|  month|day|hour|weekday|atm_number|atm_manufacturer|weather_loc_id|           location|  streetname|street_number|zipcode|   lat|  lon|atm_status|currency|transaction_amount|   service|message_code|message_text|weather_lat|weather_lon|weather_city_id|weather_city_name|   temp|pressure|humidity|wind_speed|wind_deg|rain_3h|clouds_all|weather_id|weather_main|weather_description|atm_id|date_id|     full_date_time|card_type_id|trans_id|\n",
            "+--------------------+----+-------+---+----+-------+----------+----------------+--------------+-------------------+------------+-------------+-------+------+-----+----------+--------+------------------+----------+------------+------------+-----------+-----------+---------------+-----------------+-------+--------+--------+----------+--------+-------+----------+----------+------------+-------------------+------+-------+-------------------+------------+--------+\n",
            "|Visa Dankort - on-us|2017|January|  6|   8| Friday|        92|             NCR|            61|Intern  HjÃƒÂ¸rring|ÃƒËœstergade|            8|   9800|57.459|9.988|    Active|     DKK|               395|Withdrawal|        null|        null|     57.464|      9.982|        2620214|         Hjorring|270.163|    1049|     100|         7|     207|    0.0|        12|       801|      Clouds|         few clouds|   119|      0|2017-01-06 08:00:00|           0|       1|\n",
            "+--------------------+----+-------+---+----+-------+----------+----------------+--------------+-------------------+------------+-------------+-------+------+-----+----------+--------+------------------+----------+------------+------------+-----------+-----------+---------------+-----------------+-------+--------+--------+----------+--------+-------+----------+----------+------------+-------------------+------+-------+-------------------+------------+--------+\n",
            "only showing top 1 row"
          ]
        }
      ],
      "source": [
        "# creating primary key of fact table and viewing 1st record of the table\n",
        "from pyspark.sql.window import Window\n",
        "\n",
        "w = Window().orderBy('date_id')\n",
        "FACT_ATM_TRANS = fact_atm_trans.withColumn(\"trans_id\", row_number().over(w))\n",
        "FACT_ATM_TRANS.show(1, True)"
      ]
    },
    {
      "cell_type": "code",
      "execution_count": null,
      "id": "3c95f883-3dfd-4cd6-9b4e-9acf6f6c96b3",
      "metadata": {
        "execution": {
          "iopub.execute_input": "2022-12-19T11:10:43.873953Z",
          "iopub.status.busy": "2022-12-19T11:10:43.873626Z",
          "iopub.status.idle": "2022-12-19T11:10:44.201084Z",
          "shell.execute_reply": "2022-12-19T11:10:44.199337Z",
          "shell.execute_reply.started": "2022-12-19T11:10:43.873926Z"
        },
        "id": "3c95f883-3dfd-4cd6-9b4e-9acf6f6c96b3",
        "outputId": "7af04b0a-d7fd-4a85-c859-e7d2e0717242",
        "colab": {
          "referenced_widgets": [
            "67fc89cf3ad8450b9ab04b31607fe884",
            ""
          ]
        }
      },
      "outputs": [
        {
          "data": {
            "application/vnd.jupyter.widget-view+json": {
              "model_id": "67fc89cf3ad8450b9ab04b31607fe884",
              "version_major": 2,
              "version_minor": 0
            },
            "text/plain": [
              "VBox()"
            ]
          },
          "metadata": {},
          "output_type": "display_data"
        },
        {
          "data": {
            "application/vnd.jupyter.widget-view+json": {
              "model_id": "",
              "version_major": 2,
              "version_minor": 0
            },
            "text/plain": [
              "FloatProgress(value=0.0, bar_style='info', description='Progress:', layout=Layout(height='25px', width='50%'),…"
            ]
          },
          "metadata": {},
          "output_type": "display_data"
        },
        {
          "name": "stdout",
          "output_type": "stream",
          "text": [
            "['card_type', 'year', 'month', 'day', 'hour', 'weekday', 'atm_number', 'atm_manufacturer', 'weather_loc_id', 'location', 'streetname', 'street_number', 'zipcode', 'lat', 'lon', 'atm_status', 'currency', 'transaction_amount', 'service', 'message_code', 'message_text', 'weather_lat', 'weather_lon', 'weather_city_id', 'weather_city_name', 'temp', 'pressure', 'humidity', 'wind_speed', 'wind_deg', 'rain_3h', 'clouds_all', 'weather_id', 'weather_main', 'weather_description', 'atm_id', 'date_id', 'full_date_time', 'card_type_id', 'trans_id']"
          ]
        }
      ],
      "source": [
        "# viewing the list of columns\n",
        "FACT_ATM_TRANS.columns"
      ]
    },
    {
      "cell_type": "code",
      "execution_count": null,
      "id": "4d292be8-d05b-4237-b329-4e676bf9523e",
      "metadata": {
        "execution": {
          "iopub.execute_input": "2022-12-19T11:10:46.515908Z",
          "iopub.status.busy": "2022-12-19T11:10:46.515413Z",
          "iopub.status.idle": "2022-12-19T11:10:46.719698Z",
          "shell.execute_reply": "2022-12-19T11:10:46.717759Z",
          "shell.execute_reply.started": "2022-12-19T11:10:46.515876Z"
        },
        "id": "4d292be8-d05b-4237-b329-4e676bf9523e",
        "outputId": "986b111e-cbc0-49e4-e384-d9f519ca3331",
        "colab": {
          "referenced_widgets": [
            "0133546739474fd89e8d66e391062da0",
            ""
          ]
        }
      },
      "outputs": [
        {
          "data": {
            "application/vnd.jupyter.widget-view+json": {
              "model_id": "0133546739474fd89e8d66e391062da0",
              "version_major": 2,
              "version_minor": 0
            },
            "text/plain": [
              "VBox()"
            ]
          },
          "metadata": {},
          "output_type": "display_data"
        },
        {
          "data": {
            "application/vnd.jupyter.widget-view+json": {
              "model_id": "",
              "version_major": 2,
              "version_minor": 0
            },
            "text/plain": [
              "FloatProgress(value=0.0, bar_style='info', description='Progress:', layout=Layout(height='25px', width='50%'),…"
            ]
          },
          "metadata": {},
          "output_type": "display_data"
        }
      ],
      "source": [
        "# selecting and arranging only the required columns according to the target model\n",
        "FACT_ATM_TRANS = FACT_ATM_TRANS.select('trans_id', 'atm_id', 'weather_loc_id', 'date_id', 'card_type_id', \n",
        "'atm_status', 'currency', 'service', 'transaction_amount', 'message_code', 'message_text', 'rain_3h', \n",
        "'clouds_all', 'weather_id', 'weather_main', 'weather_description')"
      ]
    },
    {
      "cell_type": "code",
      "execution_count": null,
      "id": "26a9d42c-def6-4eb2-9086-1d9ce07561e6",
      "metadata": {
        "execution": {
          "iopub.execute_input": "2022-12-19T11:10:48.709036Z",
          "iopub.status.busy": "2022-12-19T11:10:48.708411Z",
          "iopub.status.idle": "2022-12-19T11:10:48.918729Z",
          "shell.execute_reply": "2022-12-19T11:10:48.917670Z",
          "shell.execute_reply.started": "2022-12-19T11:10:48.708989Z"
        },
        "id": "26a9d42c-def6-4eb2-9086-1d9ce07561e6",
        "outputId": "6c5e4ff9-f194-4aea-cf15-a88920e9bc83",
        "colab": {
          "referenced_widgets": [
            "38357c85f73244e69a0e59b50f466d7b",
            ""
          ]
        }
      },
      "outputs": [
        {
          "data": {
            "application/vnd.jupyter.widget-view+json": {
              "model_id": "38357c85f73244e69a0e59b50f466d7b",
              "version_major": 2,
              "version_minor": 0
            },
            "text/plain": [
              "VBox()"
            ]
          },
          "metadata": {},
          "output_type": "display_data"
        },
        {
          "data": {
            "application/vnd.jupyter.widget-view+json": {
              "model_id": "",
              "version_major": 2,
              "version_minor": 0
            },
            "text/plain": [
              "FloatProgress(value=0.0, bar_style='info', description='Progress:', layout=Layout(height='25px', width='50%'),…"
            ]
          },
          "metadata": {},
          "output_type": "display_data"
        },
        {
          "name": "stdout",
          "output_type": "stream",
          "text": [
            "['trans_id', 'atm_id', 'weather_loc_id', 'date_id', 'card_type_id', 'atm_status', 'currency', 'service', 'transaction_amount', 'message_code', 'message_text', 'rain_3h', 'clouds_all', 'weather_id', 'weather_main', 'weather_description']"
          ]
        }
      ],
      "source": [
        "# checking that all required columns are present and named correctly\n",
        "FACT_ATM_TRANS.columns"
      ]
    },
    {
      "cell_type": "code",
      "execution_count": null,
      "id": "02462e60-a15c-415b-8074-1eac09c1a208",
      "metadata": {
        "execution": {
          "iopub.execute_input": "2022-12-19T11:10:52.192069Z",
          "iopub.status.busy": "2022-12-19T11:10:52.191750Z",
          "iopub.status.idle": "2022-12-19T11:11:10.549100Z",
          "shell.execute_reply": "2022-12-19T11:11:10.547677Z",
          "shell.execute_reply.started": "2022-12-19T11:10:52.192033Z"
        },
        "tags": [],
        "id": "02462e60-a15c-415b-8074-1eac09c1a208",
        "outputId": "891fe5aa-d8da-4d9f-de0b-b2c6b1256aa9",
        "colab": {
          "referenced_widgets": [
            "9b2bee0be5fe47d3b1cc9817f19771d7",
            ""
          ]
        }
      },
      "outputs": [
        {
          "data": {
            "application/vnd.jupyter.widget-view+json": {
              "model_id": "9b2bee0be5fe47d3b1cc9817f19771d7",
              "version_major": 2,
              "version_minor": 0
            },
            "text/plain": [
              "VBox()"
            ]
          },
          "metadata": {},
          "output_type": "display_data"
        },
        {
          "data": {
            "application/vnd.jupyter.widget-view+json": {
              "model_id": "",
              "version_major": 2,
              "version_minor": 0
            },
            "text/plain": [
              "FloatProgress(value=0.0, bar_style='info', description='Progress:', layout=Layout(height='25px', width='50%'),…"
            ]
          },
          "metadata": {},
          "output_type": "display_data"
        },
        {
          "name": "stdout",
          "output_type": "stream",
          "text": [
            "2468572"
          ]
        }
      ],
      "source": [
        "# validating the count of the dataframe\n",
        "FACT_ATM_TRANS.select('*').count()"
      ]
    },
    {
      "cell_type": "markdown",
      "id": "07a80e65-f0f1-4253-bf17-f37959f7cf94",
      "metadata": {
        "id": "07a80e65-f0f1-4253-bf17-f37959f7cf94"
      },
      "source": [
        "### Writing the PySpark Dataframes to AWS S3 Storage in csv format"
      ]
    },
    {
      "cell_type": "code",
      "execution_count": null,
      "id": "8c7f82d3-748a-4c78-a821-15d944648c17",
      "metadata": {
        "execution": {
          "iopub.execute_input": "2022-12-19T11:14:11.568791Z",
          "iopub.status.busy": "2022-12-19T11:14:11.568485Z",
          "iopub.status.idle": "2022-12-19T11:14:29.347115Z",
          "shell.execute_reply": "2022-12-19T11:14:29.342311Z",
          "shell.execute_reply.started": "2022-12-19T11:14:11.568765Z"
        },
        "tags": [],
        "id": "8c7f82d3-748a-4c78-a821-15d944648c17",
        "outputId": "ca3213d7-5e17-4f61-9bed-8a999153fb46",
        "colab": {
          "referenced_widgets": [
            "1233a962a71741efacc1fb4d564b482c",
            ""
          ]
        }
      },
      "outputs": [
        {
          "data": {
            "application/vnd.jupyter.widget-view+json": {
              "model_id": "1233a962a71741efacc1fb4d564b482c",
              "version_major": 2,
              "version_minor": 0
            },
            "text/plain": [
              "VBox()"
            ]
          },
          "metadata": {},
          "output_type": "display_data"
        },
        {
          "data": {
            "application/vnd.jupyter.widget-view+json": {
              "model_id": "",
              "version_major": 2,
              "version_minor": 0
            },
            "text/plain": [
              "FloatProgress(value=0.0, bar_style='info', description='Progress:', layout=Layout(height='25px', width='50%'),…"
            ]
          },
          "metadata": {},
          "output_type": "display_data"
        }
      ],
      "source": [
        "# writing data from pyspark df 'dim_location' in csv format to dim_location folder in S3 bucket 'etl-bucket-s3'\n",
        "DIM_LOCATION.coalesce(1).write.format('csv').option('header','false').save('s3://etl-bucket-s3/dim_location', mode='overwrite')"
      ]
    },
    {
      "cell_type": "code",
      "execution_count": null,
      "id": "ec91846f-12ee-4569-ae09-8c4fd9c70561",
      "metadata": {
        "execution": {
          "iopub.execute_input": "2022-12-19T11:15:52.250056Z",
          "iopub.status.busy": "2022-12-19T11:15:52.249644Z",
          "iopub.status.idle": "2022-12-19T11:16:07.967266Z",
          "shell.execute_reply": "2022-12-19T11:16:07.966371Z",
          "shell.execute_reply.started": "2022-12-19T11:15:52.249955Z"
        },
        "id": "ec91846f-12ee-4569-ae09-8c4fd9c70561",
        "outputId": "6078a145-c2b7-4b3d-960d-5aadf621d44f",
        "colab": {
          "referenced_widgets": [
            "915d05b58a2d44d38cdcedbec0a22eee",
            ""
          ]
        }
      },
      "outputs": [
        {
          "data": {
            "application/vnd.jupyter.widget-view+json": {
              "model_id": "915d05b58a2d44d38cdcedbec0a22eee",
              "version_major": 2,
              "version_minor": 0
            },
            "text/plain": [
              "VBox()"
            ]
          },
          "metadata": {},
          "output_type": "display_data"
        },
        {
          "data": {
            "application/vnd.jupyter.widget-view+json": {
              "model_id": "",
              "version_major": 2,
              "version_minor": 0
            },
            "text/plain": [
              "FloatProgress(value=0.0, bar_style='info', description='Progress:', layout=Layout(height='25px', width='50%'),…"
            ]
          },
          "metadata": {},
          "output_type": "display_data"
        }
      ],
      "source": [
        "# writing data from pyspark df 'dim_atm' in csv format to dim_atm folder in S3 bucket 'etl-bucket-s3'\n",
        "DIM_ATM.coalesce(1).write.format('csv').option('header','false').save('s3://etl-bucket-s3/dim_atm', mode='overwrite')"
      ]
    },
    {
      "cell_type": "code",
      "execution_count": null,
      "id": "8de64bd9-6682-4400-8f74-2907e0526d76",
      "metadata": {
        "execution": {
          "iopub.execute_input": "2022-12-19T11:16:33.809670Z",
          "iopub.status.busy": "2022-12-19T11:16:33.809256Z",
          "iopub.status.idle": "2022-12-19T11:16:37.510834Z",
          "shell.execute_reply": "2022-12-19T11:16:37.509941Z",
          "shell.execute_reply.started": "2022-12-19T11:16:33.809627Z"
        },
        "id": "8de64bd9-6682-4400-8f74-2907e0526d76",
        "outputId": "1d16ad22-e280-4de1-a1a4-d2c95fb0dba0",
        "colab": {
          "referenced_widgets": [
            "844a3b40b67648169e15aeb50275681e",
            ""
          ]
        }
      },
      "outputs": [
        {
          "data": {
            "application/vnd.jupyter.widget-view+json": {
              "model_id": "844a3b40b67648169e15aeb50275681e",
              "version_major": 2,
              "version_minor": 0
            },
            "text/plain": [
              "VBox()"
            ]
          },
          "metadata": {},
          "output_type": "display_data"
        },
        {
          "data": {
            "application/vnd.jupyter.widget-view+json": {
              "model_id": "",
              "version_major": 2,
              "version_minor": 0
            },
            "text/plain": [
              "FloatProgress(value=0.0, bar_style='info', description='Progress:', layout=Layout(height='25px', width='50%'),…"
            ]
          },
          "metadata": {},
          "output_type": "display_data"
        }
      ],
      "source": [
        "# writing data from pyspark df 'dim_data' in csv format to dim_data folder in S3 bucket 'etl-bucket-s3'\n",
        "DIM_DATE.coalesce(1).write.format('csv').option('header','false').save('s3://etl-bucket-s3/dim_date', mode='overwrite')"
      ]
    },
    {
      "cell_type": "code",
      "execution_count": null,
      "id": "c151b919-92a6-499f-9a3a-df3a7e2852c5",
      "metadata": {
        "execution": {
          "iopub.execute_input": "2022-12-19T11:16:44.894205Z",
          "iopub.status.busy": "2022-12-19T11:16:44.892949Z",
          "iopub.status.idle": "2022-12-19T11:16:47.504071Z",
          "shell.execute_reply": "2022-12-19T11:16:47.502633Z",
          "shell.execute_reply.started": "2022-12-19T11:16:44.894062Z"
        },
        "id": "c151b919-92a6-499f-9a3a-df3a7e2852c5",
        "outputId": "6fd2cee9-8523-4714-9d82-e2faf2c7115e",
        "colab": {
          "referenced_widgets": [
            "41b03d09657544178eb82535a736d352",
            ""
          ]
        }
      },
      "outputs": [
        {
          "data": {
            "application/vnd.jupyter.widget-view+json": {
              "model_id": "41b03d09657544178eb82535a736d352",
              "version_major": 2,
              "version_minor": 0
            },
            "text/plain": [
              "VBox()"
            ]
          },
          "metadata": {},
          "output_type": "display_data"
        },
        {
          "data": {
            "application/vnd.jupyter.widget-view+json": {
              "model_id": "",
              "version_major": 2,
              "version_minor": 0
            },
            "text/plain": [
              "FloatProgress(value=0.0, bar_style='info', description='Progress:', layout=Layout(height='25px', width='50%'),…"
            ]
          },
          "metadata": {},
          "output_type": "display_data"
        }
      ],
      "source": [
        "# writing data from pyspark df 'dim_card_type' in csv format to dim_card_type folder in S3 bucket 'etl-bucket-s3'\n",
        "DIM_CARD_TYPE.coalesce(1).write.format('csv').option('header','false').save('s3://etl-bucket-s3/dim_card_type', mode='overwrite')"
      ]
    },
    {
      "cell_type": "code",
      "execution_count": null,
      "id": "70499fdd-cba5-4fa6-bd67-42786d21cda8",
      "metadata": {
        "execution": {
          "iopub.execute_input": "2022-12-19T11:16:56.487759Z",
          "iopub.status.busy": "2022-12-19T11:16:56.487440Z",
          "iopub.status.idle": "2022-12-19T11:17:55.480955Z",
          "shell.execute_reply": "2022-12-19T11:17:55.480066Z",
          "shell.execute_reply.started": "2022-12-19T11:16:56.487729Z"
        },
        "tags": [],
        "id": "70499fdd-cba5-4fa6-bd67-42786d21cda8",
        "outputId": "2b198972-661e-4696-ba5c-171681e10a34",
        "colab": {
          "referenced_widgets": [
            "85c7feb8b1b24db5a98dec2a59e6d6c1",
            ""
          ]
        }
      },
      "outputs": [
        {
          "data": {
            "application/vnd.jupyter.widget-view+json": {
              "model_id": "85c7feb8b1b24db5a98dec2a59e6d6c1",
              "version_major": 2,
              "version_minor": 0
            },
            "text/plain": [
              "VBox()"
            ]
          },
          "metadata": {},
          "output_type": "display_data"
        },
        {
          "data": {
            "application/vnd.jupyter.widget-view+json": {
              "model_id": "",
              "version_major": 2,
              "version_minor": 0
            },
            "text/plain": [
              "FloatProgress(value=0.0, bar_style='info', description='Progress:', layout=Layout(height='25px', width='50%'),…"
            ]
          },
          "metadata": {},
          "output_type": "display_data"
        }
      ],
      "source": [
        "# writing data from pyspark df 'fact_atm_trans' in csv format to fact_atm_trans folder in S3 bucket 'etl-bucket-s3'\n",
        "FACT_ATM_TRANS.coalesce(1).write.format('csv').option('header','false').save('s3://etl-bucket-s3/fact_atm_trans', mode='overwrite')"
      ]
    },
    {
      "cell_type": "code",
      "execution_count": null,
      "id": "5e3e3d05-3d7e-4a5a-bcb5-2cc1355dbb14",
      "metadata": {
        "id": "5e3e3d05-3d7e-4a5a-bcb5-2cc1355dbb14"
      },
      "outputs": [],
      "source": []
    },
    {
      "cell_type": "code",
      "execution_count": null,
      "id": "fdf6f1da-b0d2-456c-9cb3-7c60af96b001",
      "metadata": {
        "id": "fdf6f1da-b0d2-456c-9cb3-7c60af96b001"
      },
      "outputs": [],
      "source": []
    },
    {
      "cell_type": "code",
      "execution_count": null,
      "id": "bd8f61de-410b-4de5-9303-37de8d1288bf",
      "metadata": {
        "id": "bd8f61de-410b-4de5-9303-37de8d1288bf"
      },
      "outputs": [],
      "source": []
    },
    {
      "cell_type": "code",
      "execution_count": null,
      "id": "b7c83aed-b2c8-4574-a143-f389c8e02a4b",
      "metadata": {
        "id": "b7c83aed-b2c8-4574-a143-f389c8e02a4b"
      },
      "outputs": [],
      "source": []
    }
  ],
  "metadata": {
    "kernelspec": {
      "display_name": "PySpark",
      "language": "",
      "name": "pysparkkernel"
    },
    "language_info": {
      "codemirror_mode": {
        "name": "python",
        "version": 2
      },
      "mimetype": "text/x-python",
      "name": "pyspark",
      "pygments_lexer": "python2"
    },
    "colab": {
      "provenance": []
    }
  },
  "nbformat": 4,
  "nbformat_minor": 5
}